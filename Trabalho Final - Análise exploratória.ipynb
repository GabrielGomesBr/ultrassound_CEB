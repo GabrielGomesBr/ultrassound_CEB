{
 "cells": [
  {
   "cell_type": "markdown",
   "metadata": {},
   "source": [
    "# Importando as bibliotecas necessárias"
   ]
  },
  {
   "cell_type": "code",
   "execution_count": 1,
   "metadata": {},
   "outputs": [
    {
     "name": "stderr",
     "output_type": "stream",
     "text": [
      "Using TensorFlow backend.\n"
     ]
    }
   ],
   "source": [
    "import wave\n",
    "from sklearn.decomposition import PCA\n",
    "import pywt\n",
    "import numpy as np\n",
    "import pandas as pd\n",
    "import matplotlib.pyplot as plt\n",
    "import glob\n",
    "from sklearn.cluster import KMeans\n",
    "import matplotlib.pyplot as plt\n",
    "from sklearn.preprocessing import MinMaxScaler\n",
    "from scipy.io import wavfile\n",
    "from numpy.fft import fft, fftfreq\n",
    "from scipy import signal\n",
    "import keras\n",
    "from keras.models import Sequential,Input,Model\n",
    "from keras.layers import Dense, Dropout, Flatten\n",
    "from keras.layers import Conv1D, MaxPooling1D, GlobalAveragePooling1D, Reshape\n",
    "from keras.layers.normalization import BatchNormalization\n",
    "from keras.layers.advanced_activations import LeakyReLU\n",
    "from keras.models import Model\n",
    "from keras.optimizers import RMSprop\n",
    "from keras.layers import Input,Dense,Flatten,Dropout,merge,Reshape,Conv1D,MaxPooling1D,UpSampling1D\n",
    "from keras.layers.normalization import BatchNormalization\n",
    "from keras.models import Model,Sequential\n",
    "from keras.callbacks import ModelCheckpoint\n",
    "from keras.optimizers import Adadelta, RMSprop,SGD,Adam\n",
    "from keras import regularizers\n",
    "from keras import backend as K\n",
    "from keras.utils import to_categorical\n",
    "from scipy import signal\n",
    "import keras.callbacks\n",
    "from sklearn.model_selection import StratifiedKFold\n"
   ]
  },
  {
   "cell_type": "markdown",
   "metadata": {},
   "source": [
    "# Importando os dados\n",
    "\n",
    "Importando todos os arquivos .wav que estão na pasta de amostras aleatórias. Resolução de inteiro de 16 bits."
   ]
  },
  {
   "cell_type": "code",
   "execution_count": 3,
   "metadata": {},
   "outputs": [],
   "source": [
    "path = \"/media/gabriel/OS/Users/gabriel.gomes/Google Drive/Radice - Pós-Graduação/Disciplinas/Trabalho Final - SEL5712 e SEL5742/Arquivos de Dados/Testes 05_07_19/freq/*.wav\"\n",
    "ys = []\n",
    "fnames = []\n",
    "y = []\n",
    "resh = True\n",
    "for fname in glob.glob(path): #utiliza a biblioteca glob para varrer a pasta na qual os arquivos (loop)\n",
    "    waveF = []\n",
    "    fnames.append(fname) \n",
    "    #lê p .wav\n",
    "    fs, data = wavfile.read(fname)\n",
    "    #limitando o tamanho das amostras, porque está variado\n",
    "    data = np.array(data[0:150000])\n",
    "    #dividindo em 10 partes de 15000 amostras, que dá quase um segundo.\n",
    "    if(resh == True):\n",
    "        data = np.reshape(data,(300,500))\n",
    "        for d in data:\n",
    "            y.append(d)\n",
    "    else:        \n",
    "        y.append(data)\n",
    "\n",
    "fnames = [f.replace('C:\\\\Users\\\\gabriel.gomes\\\\Google Drive\\\\Radice - Pós-Graduação\\Disciplinas\\Trabalho Final - \\\n",
    "SEL5712 e SEL5742\\\\Arquivos de Dados\\Amostras Aleatórias\\\\', '') for f in fnames] #pega o nome dos arquivos\n",
    "df = pd.DataFrame(np.array(y))\n",
    "\n",
    "#criando o nome das colunas para o dataframe\n",
    "\n",
    "n_samples = 600\n",
    "colunas = []\n",
    "j = 0\n",
    "if(resh == True):\n",
    "    for i in range(n_samples*10):\n",
    "        if(i%n_samples == 0 and i > 0):\n",
    "            j += 1 \n",
    "        colunas.append(\"Am.\" + str(int(i/n_samples)+1) + \"p.\" + str(i-j*n_samples))\n",
    "else:\n",
    "    for i in range(n_samples):\n",
    "        colunas.append(\"Am.\" + str(i))\n",
    "\n",
    "df.index = colunas"
   ]
  },
  {
   "cell_type": "code",
   "execution_count": 4,
   "metadata": {},
   "outputs": [
    {
     "data": {
      "text/html": [
       "<div>\n",
       "<style scoped>\n",
       "    .dataframe tbody tr th:only-of-type {\n",
       "        vertical-align: middle;\n",
       "    }\n",
       "\n",
       "    .dataframe tbody tr th {\n",
       "        vertical-align: top;\n",
       "    }\n",
       "\n",
       "    .dataframe thead th {\n",
       "        text-align: right;\n",
       "    }\n",
       "</style>\n",
       "<table border=\"1\" class=\"dataframe\">\n",
       "  <thead>\n",
       "    <tr style=\"text-align: right;\">\n",
       "      <th></th>\n",
       "      <th>0</th>\n",
       "    </tr>\n",
       "  </thead>\n",
       "  <tbody>\n",
       "    <tr>\n",
       "      <th>Am.1p.0</th>\n",
       "      <td>1</td>\n",
       "    </tr>\n",
       "    <tr>\n",
       "      <th>Am.1p.1</th>\n",
       "      <td>1</td>\n",
       "    </tr>\n",
       "    <tr>\n",
       "      <th>Am.1p.2</th>\n",
       "      <td>1</td>\n",
       "    </tr>\n",
       "    <tr>\n",
       "      <th>Am.1p.3</th>\n",
       "      <td>1</td>\n",
       "    </tr>\n",
       "    <tr>\n",
       "      <th>Am.1p.4</th>\n",
       "      <td>1</td>\n",
       "    </tr>\n",
       "  </tbody>\n",
       "</table>\n",
       "</div>"
      ],
      "text/plain": [
       "         0\n",
       "Am.1p.0  1\n",
       "Am.1p.1  1\n",
       "Am.1p.2  1\n",
       "Am.1p.3  1\n",
       "Am.1p.4  1"
      ]
     },
     "execution_count": 4,
     "metadata": {},
     "output_type": "execute_result"
    }
   ],
   "source": [
    "#definindo os labels das amostras: 0 -> sem defeito; 1 -> com defeito\n",
    "labels = []\n",
    "labels[0:4*n_samples] = [1 for i in range(4*n_samples)]\n",
    "labels[4*n_samples:7*n_samples] = [0 for i in range(4*n_samples,7*n_samples)]\n",
    "labels[7*n_samples:n_samples*10] = [1 for i in range(7*n_samples,n_samples*10)]\n",
    "labels = pd.DataFrame(labels)\n",
    "labels.index = colunas\n",
    "labels.head()"
   ]
  },
  {
   "cell_type": "markdown",
   "metadata": {},
   "source": [
    "# Análise do espectro de frequência dos sinais\n",
    "Abordagem 1: Análise da resposta em frequência dos sinais sem defeito e dos sinais com defeito. Pegar a FFT média."
   ]
  },
  {
   "cell_type": "code",
   "execution_count": 8,
   "metadata": {},
   "outputs": [
    {
     "data": {
      "image/png": "[encoded data removed]",
      "text/plain": [
       "<Figure size 936x432 with 2 Axes>"
      ]
     },
     "metadata": {
      "needs_background": "light"
     },
     "output_type": "display_data"
    }
   ],
   "source": [
    "#amostras individuais\n",
    "plt.figure(figsize=(13, 6))\n",
    "plt.subplot(1,2,1)\n",
    "plt.psd(df.iloc[0][:],512,fs, c = 'r')\n",
    "plt.title(\"Power Spectrum Damaged Sample\")\n",
    "plt.xlim([0, 8000])\n",
    "plt.subplot(1,2,2)\n",
    "plt.psd(df.iloc[10][:],128,fs)\n",
    "plt.title(\"Power Spectrum Normal Sample\")\n",
    "plt.xlim([0, 8000])\n",
    "plt.show()"
   ]
  },
  {
   "cell_type": "markdown",
   "metadata": {},
   "source": [
    "É possível perceber que o espectro de frequência da amostra defeituosa é diferente do da amostra não defeituosa. Olhando apenas para forma, é possível perceber que os picos secundários são deslocados. Para confirmar que isso se repete sempre, é necessário analisar a média dos espectros de frequência."
   ]
  },
  {
   "cell_type": "code",
   "execution_count": 9,
   "metadata": {},
   "outputs": [
    {
     "data": {
      "image/png": "[encoded data removed]",
      "text/plain": [
       "<Figure size 1440x1152 with 1 Axes>"
      ]
     },
     "metadata": {
      "needs_background": "light"
     },
     "output_type": "display_data"
    }
   ],
   "source": [
    "f, Pxx_den = signal.periodogram(df.iloc[0][:], fs)\n",
    "\n",
    "meanf_ok = Pxx_den - Pxx_den\n",
    "meanf_nok = Pxx_den - Pxx_den #cria vetor de nulos\n",
    "count_ok = 0\n",
    "count_nok = 0\n",
    "fourier = []\n",
    "#faz a média dos espectros de frequência com defeito e sem defeito\n",
    "for i in range(len(labels)):\n",
    "    f, Pxx_den = signal.periodogram(df.iloc[i][:], fs)\n",
    "    if(labels.iloc[i][0] == 0):\n",
    "        meanf_ok += (Pxx_den-min(Pxx_den))/(max(Pxx_den)-min(Pxx_den))\n",
    "        fourier.append((Pxx_den-min(Pxx_den))/(max(Pxx_den)-min(Pxx_den)))\n",
    "        count_ok += 1\n",
    "    else:\n",
    "        fourier.append((Pxx_den-min(Pxx_den))/(max(Pxx_den)-min(Pxx_den)))\n",
    "        meanf_nok += (Pxx_den-min(Pxx_den))/(max(Pxx_den)-min(Pxx_den))\n",
    "        count_nok += 1\n",
    "#amostras individuais\n",
    "# plt.figure(figsize=(13, 6))\n",
    "# plt.subplot(1,2,1)\n",
    "# plt.semilogy(f,meanf_nok, c = 'r')\n",
    "# plt.grid()\n",
    "# plt.title(\"Power Spectrum Damaged Sample\")\n",
    "# plt.xlabel(\"Frequency [Hz]\")\n",
    "# plt.xlim([0, 8000])\n",
    "# plt.ylim([1e-3, 1e2])\n",
    "# plt.subplot(1,2,2)\n",
    "# plt.semilogy(f,meanf_ok)\n",
    "# plt.title(\"Power Spectrum Normal Sample\")\n",
    "# plt.xlim([0, 8000])\n",
    "# #plt.ylim([1e-3, 1e2])\n",
    "# plt.xlabel(\"Frequency [Hz]\")\n",
    "# plt.grid()\n",
    "# plt.show()\n",
    "plt.figure(figsize = (20,16))\n",
    "plt.plot(f,meanf_nok)\n",
    "plt.plot(f,meanf_ok)\n",
    "plt.legend([\"Ok\", \"Nok\"])\n",
    "plt.grid()\n",
    "plt.show()"
   ]
  },
  {
   "cell_type": "markdown",
   "metadata": {},
   "source": [
    "É possível perceber que a média dos espectros de frequência é próximo. Todavia, os valores são diferente.\n",
    "A correlação entre os espectros de frequência é mostrada abaixo:"
   ]
  },
  {
   "cell_type": "code",
   "execution_count": 10,
   "metadata": {},
   "outputs": [
    {
     "data": {
      "image/png": "[encoded data removed]",
      "text/plain": [
       "<Figure size 432x288 with 1 Axes>"
      ]
     },
     "metadata": {
      "needs_background": "light"
     },
     "output_type": "display_data"
    }
   ],
   "source": [
    "plt.title(\"Relação entre a Série de Fourier com Defeito e sem Defeito\")\n",
    "plt.plot(f,meanf_ok/meanf_nok)\n",
    "plt.show()"
   ]
  },
  {
   "cell_type": "code",
   "execution_count": 11,
   "metadata": {},
   "outputs": [],
   "source": [
    "#convertendo a série de fourier para dataframe\n",
    "fourier = pd.DataFrame(fourier)"
   ]
  },
  {
   "cell_type": "markdown",
   "metadata": {},
   "source": [
    "Como o resultado é próximo de uma linha, tudo indica que o espectro de frequência por si só não pode ser utilizado como entrada para classificação. Assim sendo, utilizaremos transformada wavelet para termos noção temporal e de frequência, uma vez que a frequência por si só pode não ser suficiente."
   ]
  },
  {
   "cell_type": "markdown",
   "metadata": {},
   "source": [
    "# Wavelet analysis"
   ]
  },
  {
   "cell_type": "markdown",
   "metadata": {},
   "source": [
    "Considerando que a frequência de amostragem é 16 kHz, a primeira frequência rastreável é 8kHz.\n",
    "Assim sendo:\n",
    "\n",
    "* Coef. Detalhe Nv.1 = 4kHz ~ 8kHz\n",
    "* Coef. Detalhe Nv.2 = 2kHz ~ 4kHz \n",
    "* Coef. Detalhe Nv.3 = 1kHz ~ 2kHz \n",
    "* Coef. Detalhe Nv.4 = 500Hz ~ 1kHz "
   ]
  },
  {
   "cell_type": "code",
   "execution_count": 13,
   "metadata": {},
   "outputs": [
    {
     "data": {
      "image/png": "[encoded data removed]",
      "text/plain": [
       "<Figure size 576x432 with 1 Axes>"
      ]
     },
     "metadata": {
      "needs_background": "light"
     },
     "output_type": "display_data"
    }
   ],
   "source": [
    "df_dwt = []\n",
    "df_dwt = pd.DataFrame(np.zeros((df.shape[0],538))) #vetor auxiliar para receber os coeficientes\n",
    "df_dwt.index = colunas #adicionando o nome das colunas\n",
    "\n",
    "for i in range(len(df)):    \n",
    "    #decomposição wavelet até o nível 4\n",
    "    coeffs = pywt.wavedecn(df.iloc[i], wavelet='db4', level=6)\n",
    "    #transformando os coeficientes em um único vetor\n",
    "    arr, coeff_slices, coeff_shapes = pywt.ravel_coeffs(coeffs)\n",
    "    df_dwt.iloc[i] = arr #adicionando os coeficientes no vetor de dados\n",
    "\n",
    "plt.figure(figsize = (8,6))\n",
    "plt.plot(df_dwt.iloc[0], c = 'g')\n",
    "plt.title(\"Coeficientes wavelet para uma determinada amostra\")\n",
    "plt.grid()\n",
    "plt.xlim([0, len(df_dwt.iloc[0])])\n",
    "plt.show()\n"
   ]
  },
  {
   "cell_type": "markdown",
   "metadata": {},
   "source": [
    "É interessante notar que a maior parte da energia do sinal ficou compreendida entre as amostras 2000 e 6000, que representam o segundo nível de decomposição, ou seja, entre 2~4 kHz"
   ]
  },
  {
   "cell_type": "markdown",
   "metadata": {},
   "source": [
    "# Tratando os dados\n",
    "Normalizando os dados e dividindo entre amostras de treinamento e amostras de teste."
   ]
  },
  {
   "cell_type": "code",
   "execution_count": 63,
   "metadata": {},
   "outputs": [
    {
     "name": "stdout",
     "output_type": "stream",
     "text": [
      "(6000, 251, 1)\n"
     ]
    }
   ],
   "source": [
    "#df_wvn = data_frame wavelet normalizado\n",
    "data = []\n",
    "from sklearn.model_selection import train_test_split\n",
    "data = fourier\n",
    "#data = df_dwt\n",
    "#data = df\n",
    "normalizer = MinMaxScaler()\n",
    "#tem que transpor pq a biblioteca do sklearn normaliza por feature\n",
    "normalizer.fit(np.array(data).T)\n",
    "data_n = normalizer.transform(np.array(data).T)\n",
    "#transpõe de novo para voltar para a forma original\n",
    "data_n = pd.DataFrame(data_n.T)\n",
    "data_n.index = colunas\n",
    "\n",
    "\n",
    "#dividindo em teste e treinamento. 20% das amostras para teste. random_state = 13 para manter sempre o mesmo\n",
    "#padrão de teste e treinamento.\n",
    "train_X,test_X,train_Y,test_Y = train_test_split(data_n,\n",
    "                                                             labels, \n",
    "                                                             test_size=0.2)\n",
    "\n",
    "#data = signal.resample(data,1000,axis = 1)\n",
    "data_n = np.expand_dims(np.array(data_n),axis= 2) \n",
    "print(data_n.shape)"
   ]
  },
  {
   "cell_type": "code",
   "execution_count": 64,
   "metadata": {},
   "outputs": [
    {
     "data": {
      "text/plain": [
       "251"
      ]
     },
     "execution_count": 64,
     "metadata": {},
     "output_type": "execute_result"
    }
   ],
   "source": [
    "data_n.shape[1]"
   ]
  },
  {
   "cell_type": "code",
   "execution_count": 62,
   "metadata": {},
   "outputs": [],
   "source": [
    "#subamostrando o sinal, pq o trem é grande pacas.\n",
    "\n",
    "#X_train = signal.resample(train_X, 1000,axis = 1)\n",
    "#X_test = signal.resample(test_X, 1000,axis = 1)\n",
    "#data = signal.resample(data,1000,axis = 1)\n",
    "#data = np.expand_dims(np.array(data),axis= 2) "
   ]
  },
  {
   "cell_type": "markdown",
   "metadata": {},
   "source": [
    "# Convolutional Neural Network\n"
   ]
  },
  {
   "cell_type": "code",
   "execution_count": 12,
   "metadata": {},
   "outputs": [],
   "source": [
    "# batch_size = 10\n",
    "# epocas = 150\n",
    "\n",
    "# test_x = np.expand_dims(np.array(X_test),axis= 2)\n",
    "# callbacks_list = [\n",
    "#     keras.callbacks.ModelCheckpoint(\n",
    "#         filepath='best_model.{epoch:02d}-{val_loss:.2f}.h5',\n",
    "#         monitor='val_loss', save_best_only=True),\n",
    "#     keras.callbacks.EarlyStopping(monitor='val_loss',  verbose=1,patience = 200)\n",
    "# ]\n",
    "# convolutional_NN_train = convolutional_NN.fit(x_train, train_Y, batch_size=batch_size,\n",
    "#                                               epochs=epocas,verbose=1,validation_data=(test_x, test_Y),\n",
    "#                                              callbacks=callbacks_list)"
   ]
  },
  {
   "cell_type": "markdown",
   "metadata": {},
   "source": [
    "## K-fold Cross Validation\n",
    "### Arquitetura 1 -> Filtro 1 60 hz de comprimento e filtro 2 "
   ]
  },
  {
   "cell_type": "code",
   "execution_count": 65,
   "metadata": {},
   "outputs": [],
   "source": [
    "kfold = StratifiedKFold(n_splits=5, shuffle=True, random_state=10)"
   ]
  },
  {
   "cell_type": "code",
   "execution_count": 75,
   "metadata": {},
   "outputs": [
    {
     "name": "stdout",
     "output_type": "stream",
     "text": [
      "acc: 76.00%\n"
     ]
    },
    {
     "ename": "KeyboardInterrupt",
     "evalue": "",
     "output_type": "error",
     "traceback": [
      "\u001b[0;31m---------------------------------------------------------------------------\u001b[0m",
      "\u001b[0;31mKeyboardInterrupt\u001b[0m                         Traceback (most recent call last)",
      "\u001b[0;32m<ipython-input-75-122814e3600b>\u001b[0m in \u001b[0;36m<module>\u001b[0;34m\u001b[0m\n\u001b[1;32m     18\u001b[0m \u001b[0;34m\u001b[0m\u001b[0m\n\u001b[1;32m     19\u001b[0m     \u001b[0;31m# Fit the model\u001b[0m\u001b[0;34m\u001b[0m\u001b[0;34m\u001b[0m\u001b[0;34m\u001b[0m\u001b[0m\n\u001b[0;32m---> 20\u001b[0;31m     \u001b[0mconvolutional_NN\u001b[0m\u001b[0;34m.\u001b[0m\u001b[0mfit\u001b[0m\u001b[0;34m(\u001b[0m\u001b[0mdata_n\u001b[0m\u001b[0;34m[\u001b[0m\u001b[0mtrain\u001b[0m\u001b[0;34m]\u001b[0m\u001b[0;34m,\u001b[0m \u001b[0mlabels\u001b[0m\u001b[0;34m[\u001b[0m\u001b[0mtrain\u001b[0m\u001b[0;34m]\u001b[0m\u001b[0;34m,\u001b[0m \u001b[0mepochs\u001b[0m\u001b[0;34m=\u001b[0m\u001b[0;36m100\u001b[0m\u001b[0;34m,\u001b[0m \u001b[0mbatch_size\u001b[0m\u001b[0;34m=\u001b[0m\u001b[0;36m20\u001b[0m\u001b[0;34m,\u001b[0m \u001b[0mverbose\u001b[0m\u001b[0;34m=\u001b[0m\u001b[0;36m0\u001b[0m\u001b[0;34m)\u001b[0m\u001b[0;34m\u001b[0m\u001b[0;34m\u001b[0m\u001b[0m\n\u001b[0m\u001b[1;32m     21\u001b[0m \u001b[0;34m\u001b[0m\u001b[0m\n\u001b[1;32m     22\u001b[0m     \u001b[0;31m# evaluate the model\u001b[0m\u001b[0;34m\u001b[0m\u001b[0;34m\u001b[0m\u001b[0;34m\u001b[0m\u001b[0m\n",
      "\u001b[0;32m~/anaconda3/lib/python3.7/site-packages/keras/engine/training.py\u001b[0m in \u001b[0;36mfit\u001b[0;34m(self, x, y, batch_size, epochs, verbose, callbacks, validation_split, validation_data, shuffle, class_weight, sample_weight, initial_epoch, steps_per_epoch, validation_steps, **kwargs)\u001b[0m\n\u001b[1;32m   1037\u001b[0m                                         \u001b[0minitial_epoch\u001b[0m\u001b[0;34m=\u001b[0m\u001b[0minitial_epoch\u001b[0m\u001b[0;34m,\u001b[0m\u001b[0;34m\u001b[0m\u001b[0;34m\u001b[0m\u001b[0m\n\u001b[1;32m   1038\u001b[0m                                         \u001b[0msteps_per_epoch\u001b[0m\u001b[0;34m=\u001b[0m\u001b[0msteps_per_epoch\u001b[0m\u001b[0;34m,\u001b[0m\u001b[0;34m\u001b[0m\u001b[0;34m\u001b[0m\u001b[0m\n\u001b[0;32m-> 1039\u001b[0;31m                                         validation_steps=validation_steps)\n\u001b[0m\u001b[1;32m   1040\u001b[0m \u001b[0;34m\u001b[0m\u001b[0m\n\u001b[1;32m   1041\u001b[0m     def evaluate(self, x=None, y=None,\n",
      "\u001b[0;32m~/anaconda3/lib/python3.7/site-packages/keras/engine/training_arrays.py\u001b[0m in \u001b[0;36mfit_loop\u001b[0;34m(model, f, ins, out_labels, batch_size, epochs, verbose, callbacks, val_f, val_ins, shuffle, callback_metrics, initial_epoch, steps_per_epoch, validation_steps)\u001b[0m\n\u001b[1;32m    197\u001b[0m                     \u001b[0mins_batch\u001b[0m\u001b[0;34m[\u001b[0m\u001b[0mi\u001b[0m\u001b[0;34m]\u001b[0m \u001b[0;34m=\u001b[0m \u001b[0mins_batch\u001b[0m\u001b[0;34m[\u001b[0m\u001b[0mi\u001b[0m\u001b[0;34m]\u001b[0m\u001b[0;34m.\u001b[0m\u001b[0mtoarray\u001b[0m\u001b[0;34m(\u001b[0m\u001b[0;34m)\u001b[0m\u001b[0;34m\u001b[0m\u001b[0;34m\u001b[0m\u001b[0m\n\u001b[1;32m    198\u001b[0m \u001b[0;34m\u001b[0m\u001b[0m\n\u001b[0;32m--> 199\u001b[0;31m                 \u001b[0mouts\u001b[0m \u001b[0;34m=\u001b[0m \u001b[0mf\u001b[0m\u001b[0;34m(\u001b[0m\u001b[0mins_batch\u001b[0m\u001b[0;34m)\u001b[0m\u001b[0;34m\u001b[0m\u001b[0;34m\u001b[0m\u001b[0m\n\u001b[0m\u001b[1;32m    200\u001b[0m                 \u001b[0mouts\u001b[0m \u001b[0;34m=\u001b[0m \u001b[0mto_list\u001b[0m\u001b[0;34m(\u001b[0m\u001b[0mouts\u001b[0m\u001b[0;34m)\u001b[0m\u001b[0;34m\u001b[0m\u001b[0;34m\u001b[0m\u001b[0m\n\u001b[1;32m    201\u001b[0m                 \u001b[0;32mfor\u001b[0m \u001b[0ml\u001b[0m\u001b[0;34m,\u001b[0m \u001b[0mo\u001b[0m \u001b[0;32min\u001b[0m \u001b[0mzip\u001b[0m\u001b[0;34m(\u001b[0m\u001b[0mout_labels\u001b[0m\u001b[0;34m,\u001b[0m \u001b[0mouts\u001b[0m\u001b[0;34m)\u001b[0m\u001b[0;34m:\u001b[0m\u001b[0;34m\u001b[0m\u001b[0;34m\u001b[0m\u001b[0m\n",
      "\u001b[0;32m~/anaconda3/lib/python3.7/site-packages/keras/backend/tensorflow_backend.py\u001b[0m in \u001b[0;36m__call__\u001b[0;34m(self, inputs)\u001b[0m\n\u001b[1;32m   2713\u001b[0m                 \u001b[0;32mreturn\u001b[0m \u001b[0mself\u001b[0m\u001b[0;34m.\u001b[0m\u001b[0m_legacy_call\u001b[0m\u001b[0;34m(\u001b[0m\u001b[0minputs\u001b[0m\u001b[0;34m)\u001b[0m\u001b[0;34m\u001b[0m\u001b[0;34m\u001b[0m\u001b[0m\n\u001b[1;32m   2714\u001b[0m \u001b[0;34m\u001b[0m\u001b[0m\n\u001b[0;32m-> 2715\u001b[0;31m             \u001b[0;32mreturn\u001b[0m \u001b[0mself\u001b[0m\u001b[0;34m.\u001b[0m\u001b[0m_call\u001b[0m\u001b[0;34m(\u001b[0m\u001b[0minputs\u001b[0m\u001b[0;34m)\u001b[0m\u001b[0;34m\u001b[0m\u001b[0;34m\u001b[0m\u001b[0m\n\u001b[0m\u001b[1;32m   2716\u001b[0m         \u001b[0;32melse\u001b[0m\u001b[0;34m:\u001b[0m\u001b[0;34m\u001b[0m\u001b[0;34m\u001b[0m\u001b[0m\n\u001b[1;32m   2717\u001b[0m             \u001b[0;32mif\u001b[0m \u001b[0mpy_any\u001b[0m\u001b[0;34m(\u001b[0m\u001b[0mis_tensor\u001b[0m\u001b[0;34m(\u001b[0m\u001b[0mx\u001b[0m\u001b[0;34m)\u001b[0m \u001b[0;32mfor\u001b[0m \u001b[0mx\u001b[0m \u001b[0;32min\u001b[0m \u001b[0minputs\u001b[0m\u001b[0;34m)\u001b[0m\u001b[0;34m:\u001b[0m\u001b[0;34m\u001b[0m\u001b[0;34m\u001b[0m\u001b[0m\n",
      "\u001b[0;32m~/anaconda3/lib/python3.7/site-packages/keras/backend/tensorflow_backend.py\u001b[0m in \u001b[0;36m_call\u001b[0;34m(self, inputs)\u001b[0m\n\u001b[1;32m   2673\u001b[0m             \u001b[0mfetched\u001b[0m \u001b[0;34m=\u001b[0m \u001b[0mself\u001b[0m\u001b[0;34m.\u001b[0m\u001b[0m_callable_fn\u001b[0m\u001b[0;34m(\u001b[0m\u001b[0;34m*\u001b[0m\u001b[0marray_vals\u001b[0m\u001b[0;34m,\u001b[0m \u001b[0mrun_metadata\u001b[0m\u001b[0;34m=\u001b[0m\u001b[0mself\u001b[0m\u001b[0;34m.\u001b[0m\u001b[0mrun_metadata\u001b[0m\u001b[0;34m)\u001b[0m\u001b[0;34m\u001b[0m\u001b[0;34m\u001b[0m\u001b[0m\n\u001b[1;32m   2674\u001b[0m         \u001b[0;32melse\u001b[0m\u001b[0;34m:\u001b[0m\u001b[0;34m\u001b[0m\u001b[0;34m\u001b[0m\u001b[0m\n\u001b[0;32m-> 2675\u001b[0;31m             \u001b[0mfetched\u001b[0m \u001b[0;34m=\u001b[0m \u001b[0mself\u001b[0m\u001b[0;34m.\u001b[0m\u001b[0m_callable_fn\u001b[0m\u001b[0;34m(\u001b[0m\u001b[0;34m*\u001b[0m\u001b[0marray_vals\u001b[0m\u001b[0;34m)\u001b[0m\u001b[0;34m\u001b[0m\u001b[0;34m\u001b[0m\u001b[0m\n\u001b[0m\u001b[1;32m   2676\u001b[0m         \u001b[0;32mreturn\u001b[0m \u001b[0mfetched\u001b[0m\u001b[0;34m[\u001b[0m\u001b[0;34m:\u001b[0m\u001b[0mlen\u001b[0m\u001b[0;34m(\u001b[0m\u001b[0mself\u001b[0m\u001b[0;34m.\u001b[0m\u001b[0moutputs\u001b[0m\u001b[0;34m)\u001b[0m\u001b[0;34m]\u001b[0m\u001b[0;34m\u001b[0m\u001b[0;34m\u001b[0m\u001b[0m\n\u001b[1;32m   2677\u001b[0m \u001b[0;34m\u001b[0m\u001b[0m\n",
      "\u001b[0;32m~/anaconda3/lib/python3.7/site-packages/tensorflow/python/client/session.py\u001b[0m in \u001b[0;36m__call__\u001b[0;34m(self, *args, **kwargs)\u001b[0m\n\u001b[1;32m   1456\u001b[0m         ret = tf_session.TF_SessionRunCallable(self._session._session,\n\u001b[1;32m   1457\u001b[0m                                                \u001b[0mself\u001b[0m\u001b[0;34m.\u001b[0m\u001b[0m_handle\u001b[0m\u001b[0;34m,\u001b[0m \u001b[0margs\u001b[0m\u001b[0;34m,\u001b[0m\u001b[0;34m\u001b[0m\u001b[0;34m\u001b[0m\u001b[0m\n\u001b[0;32m-> 1458\u001b[0;31m                                                run_metadata_ptr)\n\u001b[0m\u001b[1;32m   1459\u001b[0m         \u001b[0;32mif\u001b[0m \u001b[0mrun_metadata\u001b[0m\u001b[0;34m:\u001b[0m\u001b[0;34m\u001b[0m\u001b[0;34m\u001b[0m\u001b[0m\n\u001b[1;32m   1460\u001b[0m           \u001b[0mproto_data\u001b[0m \u001b[0;34m=\u001b[0m \u001b[0mtf_session\u001b[0m\u001b[0;34m.\u001b[0m\u001b[0mTF_GetBuffer\u001b[0m\u001b[0;34m(\u001b[0m\u001b[0mrun_metadata_ptr\u001b[0m\u001b[0;34m)\u001b[0m\u001b[0;34m\u001b[0m\u001b[0;34m\u001b[0m\u001b[0m\n",
      "\u001b[0;31mKeyboardInterrupt\u001b[0m: "
     ]
    }
   ],
   "source": [
    "cvscores = []\n",
    "labels = np.array(labels)\n",
    "for train, test in kfold.split(data_n, labels):\n",
    "  # create model\n",
    "    convolutional_NN = Sequential()\n",
    "    convolutional_NN.add(Dense(80, activation='relu',))\n",
    "    convolutional_NN.add(Dense(20, activation='relu'))\n",
    "    convolutional_NN.add(Dropout(rate = 0.5)) #0.35\n",
    "    convolutional_NN.add(Dense(10, activation='relu'))\n",
    "    convolutional_NN.add(Dense(5, activation='relu',))\n",
    "    convolutional_NN.add(Dropout(rate = 0.5)) #0.35\n",
    "    convolutional_NN.add(Flatten())\n",
    "    convolutional_NN.add(Dense(1, activation='sigmoid'))\n",
    "    \n",
    "    # Compile model\n",
    "    #model.compile(loss='binary_crossentropy', optimizer='adam', metrics=['accuracy'])\n",
    "    convolutional_NN.compile(loss='mean_squared_error', optimizer = Adam(),metrics=['accuracy'])\n",
    "    \n",
    "    # Fit the model\n",
    "    convolutional_NN.fit(data_n[train], labels[train], epochs=100, batch_size=20, verbose=0)\n",
    "    \n",
    "    # evaluate the model\n",
    "    scores = convolutional_NN.evaluate(data_n[test], labels[test], verbose=0)\n",
    "    print(\"%s: %.2f%%\" % (convolutional_NN.metrics_names[1], scores[1]*100))\n",
    "    cvscores.append(scores[1] * 100)\n",
    "print(\"%.2f%% (+/- %.2f%%)\" % (np.mean(cvscores), np.std(cvscores)))"
   ]
  },
  {
   "cell_type": "code",
   "execution_count": 46,
   "metadata": {},
   "outputs": [
    {
     "data": {
      "text/plain": [
       "(6000, 251, 1)"
      ]
     },
     "execution_count": 46,
     "metadata": {},
     "output_type": "execute_result"
    }
   ],
   "source": [
    "data_n.shape"
   ]
  },
  {
   "cell_type": "code",
   "execution_count": 50,
   "metadata": {},
   "outputs": [
    {
     "name": "stderr",
     "output_type": "stream",
     "text": [
      "W0722 15:08:15.780757 139907896153920 deprecation_wrapper.py:119] From /home/gabriel/anaconda3/lib/python3.7/site-packages/keras/backend/tensorflow_backend.py:986: The name tf.assign_add is deprecated. Please use tf.compat.v1.assign_add instead.\n",
      "\n"
     ]
    },
    {
     "ename": "KeyboardInterrupt",
     "evalue": "",
     "output_type": "error",
     "traceback": [
      "\u001b[0;31m---------------------------------------------------------------------------\u001b[0m",
      "\u001b[0;31mKeyboardInterrupt\u001b[0m                         Traceback (most recent call last)",
      "\u001b[0;32m<ipython-input-50-d5dc343faf69>\u001b[0m in \u001b[0;36m<module>\u001b[0;34m\u001b[0m\n\u001b[1;32m     22\u001b[0m \u001b[0;34m\u001b[0m\u001b[0m\n\u001b[1;32m     23\u001b[0m     \u001b[0;31m# Fit the model\u001b[0m\u001b[0;34m\u001b[0m\u001b[0;34m\u001b[0m\u001b[0;34m\u001b[0m\u001b[0m\n\u001b[0;32m---> 24\u001b[0;31m     \u001b[0mconvolutional_NN\u001b[0m\u001b[0;34m.\u001b[0m\u001b[0mfit\u001b[0m\u001b[0;34m(\u001b[0m\u001b[0mdata_n\u001b[0m\u001b[0;34m[\u001b[0m\u001b[0mtrain\u001b[0m\u001b[0;34m]\u001b[0m\u001b[0;34m,\u001b[0m \u001b[0mlabels\u001b[0m\u001b[0;34m[\u001b[0m\u001b[0mtrain\u001b[0m\u001b[0;34m]\u001b[0m\u001b[0;34m,\u001b[0m \u001b[0mepochs\u001b[0m\u001b[0;34m=\u001b[0m\u001b[0;36m100\u001b[0m\u001b[0;34m,\u001b[0m \u001b[0mbatch_size\u001b[0m\u001b[0;34m=\u001b[0m\u001b[0;36m20\u001b[0m\u001b[0;34m,\u001b[0m \u001b[0mverbose\u001b[0m\u001b[0;34m=\u001b[0m\u001b[0;36m0\u001b[0m\u001b[0;34m)\u001b[0m\u001b[0;34m\u001b[0m\u001b[0;34m\u001b[0m\u001b[0m\n\u001b[0m\u001b[1;32m     25\u001b[0m \u001b[0;34m\u001b[0m\u001b[0m\n\u001b[1;32m     26\u001b[0m     \u001b[0;31m# evaluate the model\u001b[0m\u001b[0;34m\u001b[0m\u001b[0;34m\u001b[0m\u001b[0;34m\u001b[0m\u001b[0m\n",
      "\u001b[0;32m~/anaconda3/lib/python3.7/site-packages/keras/engine/training.py\u001b[0m in \u001b[0;36mfit\u001b[0;34m(self, x, y, batch_size, epochs, verbose, callbacks, validation_split, validation_data, shuffle, class_weight, sample_weight, initial_epoch, steps_per_epoch, validation_steps, **kwargs)\u001b[0m\n\u001b[1;32m   1037\u001b[0m                                         \u001b[0minitial_epoch\u001b[0m\u001b[0;34m=\u001b[0m\u001b[0minitial_epoch\u001b[0m\u001b[0;34m,\u001b[0m\u001b[0;34m\u001b[0m\u001b[0;34m\u001b[0m\u001b[0m\n\u001b[1;32m   1038\u001b[0m                                         \u001b[0msteps_per_epoch\u001b[0m\u001b[0;34m=\u001b[0m\u001b[0msteps_per_epoch\u001b[0m\u001b[0;34m,\u001b[0m\u001b[0;34m\u001b[0m\u001b[0;34m\u001b[0m\u001b[0m\n\u001b[0;32m-> 1039\u001b[0;31m                                         validation_steps=validation_steps)\n\u001b[0m\u001b[1;32m   1040\u001b[0m \u001b[0;34m\u001b[0m\u001b[0m\n\u001b[1;32m   1041\u001b[0m     def evaluate(self, x=None, y=None,\n",
      "\u001b[0;32m~/anaconda3/lib/python3.7/site-packages/keras/engine/training_arrays.py\u001b[0m in \u001b[0;36mfit_loop\u001b[0;34m(model, f, ins, out_labels, batch_size, epochs, verbose, callbacks, val_f, val_ins, shuffle, callback_metrics, initial_epoch, steps_per_epoch, validation_steps)\u001b[0m\n\u001b[1;32m    197\u001b[0m                     \u001b[0mins_batch\u001b[0m\u001b[0;34m[\u001b[0m\u001b[0mi\u001b[0m\u001b[0;34m]\u001b[0m \u001b[0;34m=\u001b[0m \u001b[0mins_batch\u001b[0m\u001b[0;34m[\u001b[0m\u001b[0mi\u001b[0m\u001b[0;34m]\u001b[0m\u001b[0;34m.\u001b[0m\u001b[0mtoarray\u001b[0m\u001b[0;34m(\u001b[0m\u001b[0;34m)\u001b[0m\u001b[0;34m\u001b[0m\u001b[0;34m\u001b[0m\u001b[0m\n\u001b[1;32m    198\u001b[0m \u001b[0;34m\u001b[0m\u001b[0m\n\u001b[0;32m--> 199\u001b[0;31m                 \u001b[0mouts\u001b[0m \u001b[0;34m=\u001b[0m \u001b[0mf\u001b[0m\u001b[0;34m(\u001b[0m\u001b[0mins_batch\u001b[0m\u001b[0;34m)\u001b[0m\u001b[0;34m\u001b[0m\u001b[0;34m\u001b[0m\u001b[0m\n\u001b[0m\u001b[1;32m    200\u001b[0m                 \u001b[0mouts\u001b[0m \u001b[0;34m=\u001b[0m \u001b[0mto_list\u001b[0m\u001b[0;34m(\u001b[0m\u001b[0mouts\u001b[0m\u001b[0;34m)\u001b[0m\u001b[0;34m\u001b[0m\u001b[0;34m\u001b[0m\u001b[0m\n\u001b[1;32m    201\u001b[0m                 \u001b[0;32mfor\u001b[0m \u001b[0ml\u001b[0m\u001b[0;34m,\u001b[0m \u001b[0mo\u001b[0m \u001b[0;32min\u001b[0m \u001b[0mzip\u001b[0m\u001b[0;34m(\u001b[0m\u001b[0mout_labels\u001b[0m\u001b[0;34m,\u001b[0m \u001b[0mouts\u001b[0m\u001b[0;34m)\u001b[0m\u001b[0;34m:\u001b[0m\u001b[0;34m\u001b[0m\u001b[0;34m\u001b[0m\u001b[0m\n",
      "\u001b[0;32m~/anaconda3/lib/python3.7/site-packages/keras/backend/tensorflow_backend.py\u001b[0m in \u001b[0;36m__call__\u001b[0;34m(self, inputs)\u001b[0m\n\u001b[1;32m   2713\u001b[0m                 \u001b[0;32mreturn\u001b[0m \u001b[0mself\u001b[0m\u001b[0;34m.\u001b[0m\u001b[0m_legacy_call\u001b[0m\u001b[0;34m(\u001b[0m\u001b[0minputs\u001b[0m\u001b[0;34m)\u001b[0m\u001b[0;34m\u001b[0m\u001b[0;34m\u001b[0m\u001b[0m\n\u001b[1;32m   2714\u001b[0m \u001b[0;34m\u001b[0m\u001b[0m\n\u001b[0;32m-> 2715\u001b[0;31m             \u001b[0;32mreturn\u001b[0m \u001b[0mself\u001b[0m\u001b[0;34m.\u001b[0m\u001b[0m_call\u001b[0m\u001b[0;34m(\u001b[0m\u001b[0minputs\u001b[0m\u001b[0;34m)\u001b[0m\u001b[0;34m\u001b[0m\u001b[0;34m\u001b[0m\u001b[0m\n\u001b[0m\u001b[1;32m   2716\u001b[0m         \u001b[0;32melse\u001b[0m\u001b[0;34m:\u001b[0m\u001b[0;34m\u001b[0m\u001b[0;34m\u001b[0m\u001b[0m\n\u001b[1;32m   2717\u001b[0m             \u001b[0;32mif\u001b[0m \u001b[0mpy_any\u001b[0m\u001b[0;34m(\u001b[0m\u001b[0mis_tensor\u001b[0m\u001b[0;34m(\u001b[0m\u001b[0mx\u001b[0m\u001b[0;34m)\u001b[0m \u001b[0;32mfor\u001b[0m \u001b[0mx\u001b[0m \u001b[0;32min\u001b[0m \u001b[0minputs\u001b[0m\u001b[0;34m)\u001b[0m\u001b[0;34m:\u001b[0m\u001b[0;34m\u001b[0m\u001b[0;34m\u001b[0m\u001b[0m\n",
      "\u001b[0;32m~/anaconda3/lib/python3.7/site-packages/keras/backend/tensorflow_backend.py\u001b[0m in \u001b[0;36m_call\u001b[0;34m(self, inputs)\u001b[0m\n\u001b[1;32m   2673\u001b[0m             \u001b[0mfetched\u001b[0m \u001b[0;34m=\u001b[0m \u001b[0mself\u001b[0m\u001b[0;34m.\u001b[0m\u001b[0m_callable_fn\u001b[0m\u001b[0;34m(\u001b[0m\u001b[0;34m*\u001b[0m\u001b[0marray_vals\u001b[0m\u001b[0;34m,\u001b[0m \u001b[0mrun_metadata\u001b[0m\u001b[0;34m=\u001b[0m\u001b[0mself\u001b[0m\u001b[0;34m.\u001b[0m\u001b[0mrun_metadata\u001b[0m\u001b[0;34m)\u001b[0m\u001b[0;34m\u001b[0m\u001b[0;34m\u001b[0m\u001b[0m\n\u001b[1;32m   2674\u001b[0m         \u001b[0;32melse\u001b[0m\u001b[0;34m:\u001b[0m\u001b[0;34m\u001b[0m\u001b[0;34m\u001b[0m\u001b[0m\n\u001b[0;32m-> 2675\u001b[0;31m             \u001b[0mfetched\u001b[0m \u001b[0;34m=\u001b[0m \u001b[0mself\u001b[0m\u001b[0;34m.\u001b[0m\u001b[0m_callable_fn\u001b[0m\u001b[0;34m(\u001b[0m\u001b[0;34m*\u001b[0m\u001b[0marray_vals\u001b[0m\u001b[0;34m)\u001b[0m\u001b[0;34m\u001b[0m\u001b[0;34m\u001b[0m\u001b[0m\n\u001b[0m\u001b[1;32m   2676\u001b[0m         \u001b[0;32mreturn\u001b[0m \u001b[0mfetched\u001b[0m\u001b[0;34m[\u001b[0m\u001b[0;34m:\u001b[0m\u001b[0mlen\u001b[0m\u001b[0;34m(\u001b[0m\u001b[0mself\u001b[0m\u001b[0;34m.\u001b[0m\u001b[0moutputs\u001b[0m\u001b[0;34m)\u001b[0m\u001b[0;34m]\u001b[0m\u001b[0;34m\u001b[0m\u001b[0;34m\u001b[0m\u001b[0m\n\u001b[1;32m   2677\u001b[0m \u001b[0;34m\u001b[0m\u001b[0m\n",
      "\u001b[0;32m~/anaconda3/lib/python3.7/site-packages/tensorflow/python/client/session.py\u001b[0m in \u001b[0;36m__call__\u001b[0;34m(self, *args, **kwargs)\u001b[0m\n\u001b[1;32m   1456\u001b[0m         ret = tf_session.TF_SessionRunCallable(self._session._session,\n\u001b[1;32m   1457\u001b[0m                                                \u001b[0mself\u001b[0m\u001b[0;34m.\u001b[0m\u001b[0m_handle\u001b[0m\u001b[0;34m,\u001b[0m \u001b[0margs\u001b[0m\u001b[0;34m,\u001b[0m\u001b[0;34m\u001b[0m\u001b[0;34m\u001b[0m\u001b[0m\n\u001b[0;32m-> 1458\u001b[0;31m                                                run_metadata_ptr)\n\u001b[0m\u001b[1;32m   1459\u001b[0m         \u001b[0;32mif\u001b[0m \u001b[0mrun_metadata\u001b[0m\u001b[0;34m:\u001b[0m\u001b[0;34m\u001b[0m\u001b[0;34m\u001b[0m\u001b[0m\n\u001b[1;32m   1460\u001b[0m           \u001b[0mproto_data\u001b[0m \u001b[0;34m=\u001b[0m \u001b[0mtf_session\u001b[0m\u001b[0;34m.\u001b[0m\u001b[0mTF_GetBuffer\u001b[0m\u001b[0;34m(\u001b[0m\u001b[0mrun_metadata_ptr\u001b[0m\u001b[0;34m)\u001b[0m\u001b[0;34m\u001b[0m\u001b[0;34m\u001b[0m\u001b[0m\n",
      "\u001b[0;31mKeyboardInterrupt\u001b[0m: "
     ]
    }
   ],
   "source": [
    "\n",
    "cvscores = []\n",
    "labels = np.array(labels)\n",
    "for train, test in kfold.split(data_n, labels):\n",
    "  # create model\n",
    "    convolutional_NN = Sequential()\n",
    "    convolutional_NN.add(Dense(80, activation='relu',input_shape=(data_n.shape[1],1)))\n",
    "    convolutional_NN.add(Conv1D(70,kernel_size = 134, activation = 'relu'))\n",
    "    convolutional_NN.add(Dense(40, activation='relu'))\n",
    "    convolutional_NN.add(MaxPooling1D((2)))\n",
    "    convolutional_NN.add(Conv1D(30,kernel_size = 40, activation = 'relu'))\n",
    "    convolutional_NN.add(MaxPooling1D((2)))\n",
    "    convolutional_NN.add(Dense(40, activation='relu'))\n",
    "    convolutional_NN.add(Dense(20, activation='relu'))\n",
    "    convolutional_NN.add(Dropout(rate = 0.25)) #0.35\n",
    "    convolutional_NN.add(Flatten())\n",
    "    convolutional_NN.add(Dense(1, activation='sigmoid'))\n",
    "    \n",
    "    # Compile model\n",
    "    #model.compile(loss='binary_crossentropy', optimizer='adam', metrics=['accuracy'])\n",
    "    convolutional_NN.compile(loss='mean_squared_error', optimizer = Adam(),metrics=['accuracy'])\n",
    "    \n",
    "    # Fit the model\n",
    "    convolutional_NN.fit(data_n[train], labels[train], epochs=100, batch_size=20, verbose=0)\n",
    "    \n",
    "    # evaluate the model\n",
    "    scores = convolutional_NN.evaluate(data[test], labels[test], verbose=0)\n",
    "    print(\"%s: %.2f%%\" % (convolutional_NN.metrics_names[1], scores[1]*100))\n",
    "    cvscores.append(scores[1] * 100)\n",
    "print(\"%.2f%% (+/- %.2f%%)\" % (np.mean(cvscores), np.std(cvscores)))"
   ]
  },
  {
   "cell_type": "markdown",
   "metadata": {},
   "source": [
    "## Arquitetura 2, Adição de mais uma camada convolucional"
   ]
  },
  {
   "cell_type": "code",
   "execution_count": null,
   "metadata": {},
   "outputs": [],
   "source": [
    "cvscores = []\n",
    "labels = np.array(labels)\n",
    "for train, test in kfold.split(data, labels):\n",
    "  # create model\n",
    "    convolutional_NN = Sequential()\n",
    "    convolutional_NN.add(Dense(100, activation='relu',input_shape=(data_n.shape[1],1)))\n",
    "    convolutional_NN.add(Conv1D(100,kernel_size = 15, activation = 'relu')) #kernel_size = 10\n",
    "    convolutional_NN.add(MaxPooling1D((2)))\n",
    "    convolutional_NN.add(Conv1D(80,kernel_size = 10, activation = 'relu')) #kernel_size = 5;\n",
    "    convolutional_NN.add(Dense(80, activation='relu'))\n",
    "    convolutional_NN.add(Dropout(rate = 0.615))\n",
    "    convolutional_NN.add(Flatten())\n",
    "    convolutional_NN.add(Dense(1, activation='sigmoid'))\n",
    "    \n",
    "    # Compile model\n",
    "    #model.compile(loss='binary_crossentropy', optimizer='adam', metrics=['accuracy'])\n",
    "    convolutional_NN.compile(loss='mean_squared_error', optimizer = Adam(),metrics=['accuracy'])\n",
    "    \n",
    "    # Fit the model\n",
    "    convolutional_NN.fit(data[train], labels[train], epochs=100, batch_size=20, verbose=0)\n",
    "    \n",
    "    # evaluate the model\n",
    "    scores = convolutional_NN.evaluate(data_n[test], labels[test], verbose=0)\n",
    "    print(\"%s: %.2f%%\" % (convolutional_NN.metrics_names[1], scores[1]*100))\n",
    "    cvscores.append(scores[1] * 100)\n",
    "print(\"%.2f%% (+/- %.2f%%)\" % (np.mean(cvscores), np.std(cvscores)))"
   ]
  },
  {
   "cell_type": "code",
   "execution_count": null,
   "metadata": {},
   "outputs": [
    {
     "name": "stderr",
     "output_type": "stream",
     "text": [
      "W0722 16:07:05.762311 139907896153920 nn_ops.py:4224] Large dropout rate: 0.61 (>0.5). In TensorFlow 2.x, dropout() uses dropout rate instead of keep_prob. Please ensure that this is intended.\n"
     ]
    }
   ],
   "source": [
    "cvscores = []\n",
    "labels = np.array(labels)\n",
    "for train, test in kfold.split(data, labels):\n",
    "  # create model\n",
    "    convolutional_NN = Sequential()\n",
    "    convolutional_NN.add(Dense(100, activation='relu',input_shape=(data_n.shape[1],1)))\n",
    "    convolutional_NN.add(Conv1D(100,kernel_size = 15, activation = 'relu')) #kernel_size = 10\n",
    "    convolutional_NN.add(MaxPooling1D((2)))\n",
    "    convolutional_NN.add(Conv1D(80,kernel_size = 5, activation = 'relu')) #kernel_size = 5;\n",
    "    convolutional_NN.add(Dense(80, activation='relu'))\n",
    "    convolutional_NN.add(Dropout(rate = 0.61))\n",
    "    convolutional_NN.add(Flatten())\n",
    "    convolutional_NN.add(Dense(1, activation='sigmoid'))\n",
    "    \n",
    "    \n",
    "    # Compile model\n",
    "    #model.compile(loss='binary_crossentropy', optimizer='adam', metrics=['accuracy'])\n",
    "    convolutional_NN.compile(loss='mean_squared_error', optimizer = Adam(),metrics=['accuracy'])\n",
    "    \n",
    "    # Fit the model\n",
    "    convolutional_NN.fit(data_n[train], labels[train], epochs=100, batch_size=20, verbose=0)\n",
    "    \n",
    "    # evaluate the model\n",
    "    scores = convolutional_NN.evaluate(data[test], labels[test], verbose=0)\n",
    "    print(\"%s: %.2f%%\" % (convolutional_NN.metrics_names[1], scores[1]*100))\n",
    "    cvscores.append(scores[1] * 100)\n",
    "print(\"%.2f%% (+/- %.2f%%)\" % (np.mean(cvscores), np.std(cvscores)))"
   ]
  },
  {
   "cell_type": "code",
   "execution_count": null,
   "metadata": {},
   "outputs": [
    {
     "name": "stderr",
     "output_type": "stream",
     "text": [
      "W0719 21:38:20.061650 140174138545984 nn_ops.py:4224] Large dropout rate: 0.6 (>0.5). In TensorFlow 2.x, dropout() uses dropout rate instead of keep_prob. Please ensure that this is intended.\n"
     ]
    },
    {
     "name": "stdout",
     "output_type": "stream",
     "text": [
      "acc: 82.50%\n"
     ]
    }
   ],
   "source": [
    "cvscores = []\n",
    "labels = np.array(labels)\n",
    "for train, test in kfold.split(data, labels):\n",
    "  # create model\n",
    "    convolutional_NN = Sequential()\n",
    "    convolutional_NN.add(Dense(1000, activation='relu',input_shape=(data_n.shape[1],1)))\n",
    "    convolutional_NN.add(Conv1D(150,kernel_size = 30, activation = 'relu')) #kernel_size = 10\n",
    "    convolutional_NN.add(MaxPooling1D((2)))\n",
    "    convolutional_NN.add(Dense(300, activation='relu'))\n",
    "    convolutional_NN.add(Conv1D(100,kernel_size = 10, activation = 'relu')) #kernel_size = 5;\n",
    "    convolutional_NN.add(Dense(150, activation='relu'))\n",
    "    convolutional_NN.add(Conv1D(50,kernel_size = 5, activation = 'relu')) #kernel_size = 5;\n",
    "    convolutional_NN.add(Dense(30, activation='relu'))\n",
    "    convolutional_NN.add(Dense(20, activation='relu'))\n",
    "    convolutional_NN.add(Dense(10, activation='relu'))\n",
    "    convolutional_NN.add(Dropout(rate = 0.6))\n",
    "    convolutional_NN.add(Flatten())\n",
    "    convolutional_NN.add(Dense(1, activation='sigmoid'))\n",
    "    \n",
    "    # Compile model\n",
    "    #model.compile(loss='binary_crossentropy', optimizer='adam', metrics=['accuracy'])\n",
    "    convolutional_NN.compile(loss='mean_squared_error', optimizer = Adam(),metrics=['accuracy'])\n",
    "    \n",
    "    # Fit the model\n",
    "    convolutional_NN.fit(data[train], labels[train], epochs=100, batch_size=20, verbose=0)\n",
    "    \n",
    "    # evaluate the model\n",
    "    scores = convolutional_NN.evaluate(data[test], labels[test], verbose=0)\n",
    "    print(\"%s: %.2f%%\" % (convolutional_NN.metrics_names[1], scores[1]*100))\n",
    "    cvscores.append(scores[1] * 100)\n",
    "print(\"%.2f%% (+/- %.2f%%)\" % (np.mean(cvscores), np.std(cvscores)))"
   ]
  },
  {
   "cell_type": "markdown",
   "metadata": {},
   "source": [
    "# KNN"
   ]
  },
  {
   "cell_type": "code",
   "execution_count": 43,
   "metadata": {},
   "outputs": [
    {
     "data": {
      "text/plain": [
       "[<matplotlib.lines.Line2D at 0x7f3e90e0c320>]"
      ]
     },
     "execution_count": 43,
     "metadata": {},
     "output_type": "execute_result"
    },
    {
     "data": {
      "image/png": "[encoded data removed]",
      "text/plain": [
       "<Figure size 432x288 with 1 Axes>"
      ]
     },
     "metadata": {
      "needs_background": "light"
     },
     "output_type": "display_data"
    }
   ],
   "source": [
    "from sklearn.neighbors import KNeighborsClassifier\n",
    "score = []\n",
    "for i in range(100):\n",
    "    neigh = KNeighborsClassifier(n_neighbors=i+1)\n",
    "    a = neigh.fit(train_X, np.ravel(train_Y)) \n",
    "    score.append(a.score(test_X,np.ravel(test_Y)))\n",
    "plt.plot(score)"
   ]
  },
  {
   "cell_type": "code",
   "execution_count": 44,
   "metadata": {},
   "outputs": [
    {
     "data": {
      "text/plain": [
       "0.7033333333333334"
      ]
     },
     "execution_count": 44,
     "metadata": {},
     "output_type": "execute_result"
    }
   ],
   "source": [
    "max(score)"
   ]
  },
  {
   "cell_type": "markdown",
   "metadata": {},
   "source": [
    "# Matriz de confusão"
   ]
  },
  {
   "cell_type": "code",
   "execution_count": null,
   "metadata": {},
   "outputs": [],
   "source": [
    "from sklearn.metrics import confusion_matrix\n",
    "matrix = confusion_matrix(labels, y_pred.argmax(axis=1))"
   ]
  },
  {
   "cell_type": "markdown",
   "metadata": {},
   "source": [
    "# Autoencoder\n",
    "\n",
    "\n",
    "Autoenconders are a type of neural network that can learn how to represent an input into a lower dimensional space without losing much information. It traces the relation between the real input and this lower dimensional input through the neural network weights and activation functions. The main idea behing autoenconder is: reduce the dimensionality of the data (also called encoder part) after it try to reconstruct your data using the code created (so called decoder part). A good autoenconder is the one in which the difference between the real input and the reconstructed input is small.\n",
    "\n",
    "There are several types of autoencoders. Convolutional autoencoders are good choices when you don't know what pattern you are looking for, considering they can extract features using the idea of filters. The input is represented into a code passing it through filters which covolve (the reason of the name convolutional) with it and produce a new codified input. Each filter is responsible for extracting one feature"
   ]
  },
  {
   "cell_type": "code",
   "execution_count": null,
   "metadata": {},
   "outputs": [],
   "source": [
    "import keras\n",
    "from keras.models import Sequential,Input,Model\n",
    "from keras.layers import Dense, Dropout, Flatten\n",
    "from keras.layers import Conv1D, MaxPooling1D, GlobalAveragePooling1D, Reshape\n",
    "from keras.layers.normalization import BatchNormalization\n",
    "from keras.layers.advanced_activations import LeakyReLU"
   ]
  },
  {
   "cell_type": "markdown",
   "metadata": {},
   "source": []
  },
  {
   "cell_type": "code",
   "execution_count": 14,
   "metadata": {},
   "outputs": [],
   "source": [
    "from keras.models import Model\n",
    "from keras.optimizers import RMSprop\n",
    "from keras.layers import Input,Dense,Flatten,Dropout,merge,Reshape,Conv1D,MaxPooling1D,UpSampling1D\n",
    "from keras.layers.normalization import BatchNormalization\n",
    "from keras.models import Model,Sequential\n",
    "from keras.callbacks import ModelCheckpoint\n",
    "from keras.optimizers import Adadelta, RMSprop,SGD,Adam\n",
    "from keras import regularizers\n",
    "from keras import backend as K\n",
    "from keras.utils import to_categorical\n",
    "\n",
    "def encoder(input_img):\n",
    "    #encoder\n",
    "    #input = 28 x 28 x 1 (wide and thin)\n",
    "    conv1 = Conv1D(32, 10, activation='relu', padding='same')(input_img) #28 x 28 x 32\n",
    "    conv1 = BatchNormalization()(conv1)\n",
    "    conv1 = Conv1D(32, 10, activation='relu', padding='same')(conv1)\n",
    "    conv1 = BatchNormalization()(conv1)\n",
    "    pool1 = MaxPooling1D(pool_size=(2))(conv1) #14 x 14 x 32\n",
    "    conv2 = Conv1D(64, 10, activation='relu', padding='same')(pool1) #14 x 14 x 64\n",
    "    conv2 = BatchNormalization()(conv2)\n",
    "    conv2 = Conv1D(64, 10, activation='relu', padding='same')(conv2)\n",
    "    conv2 = BatchNormalization()(conv2)\n",
    "    pool2 = MaxPooling1D(pool_size=(2))(conv2) #7 x 7 x 64\n",
    "    conv3 = Conv1D(128, 10, activation='relu', padding='same')(pool2) #7 x 7 x 128 (small and thick)\n",
    "    conv3 = BatchNormalization()(conv3)\n",
    "    conv3 = Conv1D(128, 10, activation='relu', padding='same')(conv3)\n",
    "    conv3 = BatchNormalization()(conv3)\n",
    "    conv4 = Conv1D(256, 10, activation='relu', padding='same')(conv3) #7 x 7 x 256 (small and thick)\n",
    "    conv4 = BatchNormalization()(conv4)\n",
    "    conv4 = Conv1D(256, 10, activation='relu', padding='same')(conv4)\n",
    "    conv4 = BatchNormalization()(conv4)\n",
    "    return conv4\n",
    "\n",
    "def decoder(conv4):    \n",
    "    #decoder\n",
    "    conv5 = Conv1D(128, 10, activation='relu', padding='same')(conv4) #7 x 7 x 128\n",
    "    conv5 = BatchNormalization()(conv5)\n",
    "    conv5 = Conv1D(128, 10, activation='relu', padding='same')(conv5)\n",
    "    conv5 = BatchNormalization()(conv5)\n",
    "    conv6 = Conv1D(64, 10, activation='relu', padding='same')(conv5) #7 x 7 x 64\n",
    "    conv6 = BatchNormalization()(conv6)\n",
    "    conv6 = Conv1D(64, 10, activation='relu', padding='same')(conv6)\n",
    "    conv6 = BatchNormalization()(conv6)\n",
    "    up1 = UpSampling1D(2)(conv6) #14 x 14 x 64\n",
    "    conv7 = Conv1D(32, 10, activation='relu', padding='same')(up1) # 14 x 14 x 32\n",
    "    conv7 = BatchNormalization()(conv7)\n",
    "    conv7 = Conv1D(32, 10, activation='relu', padding='same')(conv7)\n",
    "    conv7 = BatchNormalization()(conv7)\n",
    "    up2 = UpSampling1D((2))(conv7) # 28 x 28 x 32\n",
    "    decoded = Conv1D(1, 10, activation='sigmoid', padding='same')(up2) # 28 x 28 x 1\n",
    "    return decoded\n",
    "\n",
    "x_train = np.array(X_train)\n",
    "#expandindo as dimensões para a primeira camada\n",
    "x_train = np.expand_dims(X_train,axis= 2)"
   ]
  },
  {
   "cell_type": "code",
   "execution_count": 18,
   "metadata": {
    "scrolled": true
   },
   "outputs": [
    {
     "name": "stdout",
     "output_type": "stream",
     "text": [
      "_________________________________________________________________\n",
      "Layer (type)                 Output Shape              Param #   \n",
      "=================================================================\n",
      "input_3 (InputLayer)         (None, 15000, 1)          0         \n",
      "_________________________________________________________________\n",
      "conv1d_31 (Conv1D)           (None, 15000, 32)         352       \n",
      "_________________________________________________________________\n",
      "batch_normalization_29 (Batc (None, 15000, 32)         128       \n",
      "_________________________________________________________________\n",
      "conv1d_32 (Conv1D)           (None, 15000, 32)         10272     \n",
      "_________________________________________________________________\n",
      "batch_normalization_30 (Batc (None, 15000, 32)         128       \n",
      "_________________________________________________________________\n",
      "max_pooling1d_5 (MaxPooling1 (None, 7500, 32)          0         \n",
      "_________________________________________________________________\n",
      "conv1d_33 (Conv1D)           (None, 7500, 64)          20544     \n",
      "_________________________________________________________________\n",
      "batch_normalization_31 (Batc (None, 7500, 64)          256       \n",
      "_________________________________________________________________\n",
      "conv1d_34 (Conv1D)           (None, 7500, 64)          41024     \n",
      "_________________________________________________________________\n",
      "batch_normalization_32 (Batc (None, 7500, 64)          256       \n",
      "_________________________________________________________________\n",
      "max_pooling1d_6 (MaxPooling1 (None, 3750, 64)          0         \n",
      "_________________________________________________________________\n",
      "conv1d_35 (Conv1D)           (None, 3750, 128)         82048     \n",
      "_________________________________________________________________\n",
      "batch_normalization_33 (Batc (None, 3750, 128)         512       \n",
      "_________________________________________________________________\n",
      "conv1d_36 (Conv1D)           (None, 3750, 128)         163968    \n",
      "_________________________________________________________________\n",
      "batch_normalization_34 (Batc (None, 3750, 128)         512       \n",
      "_________________________________________________________________\n",
      "conv1d_37 (Conv1D)           (None, 3750, 256)         327936    \n",
      "_________________________________________________________________\n",
      "batch_normalization_35 (Batc (None, 3750, 256)         1024      \n",
      "_________________________________________________________________\n",
      "conv1d_38 (Conv1D)           (None, 3750, 256)         655616    \n",
      "_________________________________________________________________\n",
      "batch_normalization_36 (Batc (None, 3750, 256)         1024      \n",
      "_________________________________________________________________\n",
      "conv1d_39 (Conv1D)           (None, 3750, 128)         327808    \n",
      "_________________________________________________________________\n",
      "batch_normalization_37 (Batc (None, 3750, 128)         512       \n",
      "_________________________________________________________________\n",
      "conv1d_40 (Conv1D)           (None, 3750, 128)         163968    \n",
      "_________________________________________________________________\n",
      "batch_normalization_38 (Batc (None, 3750, 128)         512       \n",
      "_________________________________________________________________\n",
      "conv1d_41 (Conv1D)           (None, 3750, 64)          81984     \n",
      "_________________________________________________________________\n",
      "batch_normalization_39 (Batc (None, 3750, 64)          256       \n",
      "_________________________________________________________________\n",
      "conv1d_42 (Conv1D)           (None, 3750, 64)          41024     \n",
      "_________________________________________________________________\n",
      "batch_normalization_40 (Batc (None, 3750, 64)          256       \n",
      "_________________________________________________________________\n",
      "up_sampling1d_5 (UpSampling1 (None, 7500, 64)          0         \n",
      "_________________________________________________________________\n",
      "conv1d_43 (Conv1D)           (None, 7500, 32)          20512     \n",
      "_________________________________________________________________\n",
      "batch_normalization_41 (Batc (None, 7500, 32)          128       \n",
      "_________________________________________________________________\n",
      "conv1d_44 (Conv1D)           (None, 7500, 32)          10272     \n",
      "_________________________________________________________________\n",
      "batch_normalization_42 (Batc (None, 7500, 32)          128       \n",
      "_________________________________________________________________\n",
      "up_sampling1d_6 (UpSampling1 (None, 15000, 32)         0         \n",
      "_________________________________________________________________\n",
      "conv1d_45 (Conv1D)           (None, 15000, 1)          321       \n",
      "=================================================================\n",
      "Total params: 1,953,281\n",
      "Trainable params: 1,950,465\n",
      "Non-trainable params: 2,816\n",
      "_________________________________________________________________\n"
     ]
    }
   ],
   "source": [
    "input_img = Input(shape = (15000, 1))\n",
    "callbacks_list = [\n",
    "    keras.callbacks.ModelCheckpoint(\n",
    "        filepath='best_model.{epoch:02d}-{val_loss:.2f}.h5',\n",
    "        monitor='val_loss', save_best_only=True),\n",
    "    keras.callbacks.EarlyStopping(monitor='acc', patience=5)\n",
    "]\n",
    "autoencoder = Model(input_img, decoder(encoder(input_img)))\n",
    "autoencoder.compile(loss='mean_squared_error', optimizer = RMSprop())\n",
    "autoencoder.summary()"
   ]
  },
  {
   "cell_type": "code",
   "execution_count": 19,
   "metadata": {},
   "outputs": [
    {
     "name": "stdout",
     "output_type": "stream",
     "text": [
      "Train on 20 samples, validate on 20 samples\n",
      "Epoch 1/100\n",
      "20/20 [==============================] - 58s 3s/step - loss: 0.0148 - val_loss: 0.0328\n"
     ]
    },
    {
     "name": "stderr",
     "output_type": "stream",
     "text": [
      "/home/gabriel/anaconda3/lib/python3.7/site-packages/keras/callbacks.py:569: RuntimeWarning: Early stopping conditioned on metric `acc` which is not available. Available metrics are: val_loss,loss\n",
      "  (self.monitor, ','.join(list(logs.keys()))), RuntimeWarning\n"
     ]
    },
    {
     "name": "stdout",
     "output_type": "stream",
     "text": [
      "Epoch 2/100\n",
      "20/20 [==============================] - 11s 547ms/step - loss: 0.0026 - val_loss: 0.0127\n",
      "Epoch 3/100\n",
      "20/20 [==============================] - 11s 565ms/step - loss: 0.0018 - val_loss: 0.0028\n",
      "Epoch 4/100\n",
      "20/20 [==============================] - 12s 583ms/step - loss: 0.0027 - val_loss: 0.0088\n",
      "Epoch 5/100\n",
      "20/20 [==============================] - 11s 560ms/step - loss: 0.0026 - val_loss: 0.0121\n",
      "Epoch 6/100\n",
      "20/20 [==============================] - 12s 577ms/step - loss: 0.0018 - val_loss: 0.0609\n",
      "Epoch 7/100\n",
      "20/20 [==============================] - 13s 642ms/step - loss: 0.0020 - val_loss: 0.0258\n",
      "Epoch 8/100\n",
      "20/20 [==============================] - 12s 616ms/step - loss: 0.0016 - val_loss: 0.0022\n",
      "Epoch 9/100\n",
      "20/20 [==============================] - 12s 603ms/step - loss: 0.0017 - val_loss: 0.0022\n",
      "Epoch 10/100\n",
      "20/20 [==============================] - 13s 646ms/step - loss: 0.0020 - val_loss: 0.0679\n",
      "Epoch 11/100\n",
      "20/20 [==============================] - 12s 605ms/step - loss: 0.0012 - val_loss: 0.0029\n",
      "Epoch 12/100\n",
      "20/20 [==============================] - 11s 553ms/step - loss: 0.0016 - val_loss: 0.0148\n",
      "Epoch 13/100\n",
      "20/20 [==============================] - 11s 567ms/step - loss: 0.0025 - val_loss: 0.0011\n",
      "Epoch 14/100\n",
      "20/20 [==============================] - 11s 548ms/step - loss: 0.0018 - val_loss: 0.0162\n",
      "Epoch 15/100\n",
      "20/20 [==============================] - 11s 547ms/step - loss: 0.0015 - val_loss: 0.0767\n",
      "Epoch 16/100\n",
      "20/20 [==============================] - 11s 550ms/step - loss: 0.0017 - val_loss: 0.0341\n",
      "Epoch 17/100\n",
      "20/20 [==============================] - 11s 546ms/step - loss: 0.0018 - val_loss: 0.0026\n",
      "Epoch 18/100\n",
      "20/20 [==============================] - 12s 581ms/step - loss: 0.0024 - val_loss: 0.1438\n",
      "Epoch 19/100\n",
      "20/20 [==============================] - 12s 577ms/step - loss: 0.0017 - val_loss: 0.0179\n",
      "Epoch 20/100\n",
      "20/20 [==============================] - 13s 626ms/step - loss: 0.0018 - val_loss: 5.2134e-04\n",
      "Epoch 21/100\n",
      "20/20 [==============================] - 11s 557ms/step - loss: 0.0015 - val_loss: 0.0013\n",
      "Epoch 22/100\n",
      "20/20 [==============================] - 11s 557ms/step - loss: 0.0023 - val_loss: 0.0672\n",
      "Epoch 23/100\n",
      "20/20 [==============================] - 12s 586ms/step - loss: 0.0015 - val_loss: 0.0750\n",
      "Epoch 24/100\n",
      "20/20 [==============================] - 11s 562ms/step - loss: 0.0019 - val_loss: 0.0489\n",
      "Epoch 25/100\n",
      "20/20 [==============================] - 12s 580ms/step - loss: 0.0018 - val_loss: 0.0307\n",
      "Epoch 26/100\n",
      "20/20 [==============================] - 11s 561ms/step - loss: 0.0019 - val_loss: 0.0074\n",
      "Epoch 27/100\n",
      "20/20 [==============================] - 11s 548ms/step - loss: 0.0017 - val_loss: 0.0128\n",
      "Epoch 28/100\n",
      "20/20 [==============================] - 11s 555ms/step - loss: 0.0016 - val_loss: 0.2077\n",
      "Epoch 29/100\n",
      "20/20 [==============================] - 11s 542ms/step - loss: 0.0014 - val_loss: 0.1701\n",
      "Epoch 30/100\n",
      "20/20 [==============================] - 11s 552ms/step - loss: 0.0019 - val_loss: 0.0828\n",
      "Epoch 31/100\n",
      "20/20 [==============================] - 11s 547ms/step - loss: 0.0026 - val_loss: 0.0089\n",
      "Epoch 32/100\n",
      "20/20 [==============================] - 12s 585ms/step - loss: 0.0022 - val_loss: 0.0020\n",
      "Epoch 33/100\n",
      "20/20 [==============================] - 11s 572ms/step - loss: 0.0012 - val_loss: 0.0021\n",
      "Epoch 34/100\n",
      "20/20 [==============================] - 11s 551ms/step - loss: 0.0015 - val_loss: 0.0042\n",
      "Epoch 35/100\n",
      "20/20 [==============================] - 11s 562ms/step - loss: 0.0017 - val_loss: 0.0116\n",
      "Epoch 36/100\n",
      "20/20 [==============================] - 11s 545ms/step - loss: 0.0014 - val_loss: 0.0013\n",
      "Epoch 37/100\n",
      "20/20 [==============================] - 11s 543ms/step - loss: 0.0018 - val_loss: 0.0050\n",
      "Epoch 38/100\n",
      "20/20 [==============================] - 11s 571ms/step - loss: 0.0014 - val_loss: 0.0447\n",
      "Epoch 39/100\n",
      "20/20 [==============================] - 12s 590ms/step - loss: 0.0012 - val_loss: 0.0049\n",
      "Epoch 40/100\n",
      "20/20 [==============================] - 12s 589ms/step - loss: 0.0015 - val_loss: 0.0040\n",
      "Epoch 41/100\n",
      "20/20 [==============================] - 12s 599ms/step - loss: 0.0021 - val_loss: 0.0040\n",
      "Epoch 42/100\n",
      "20/20 [==============================] - 11s 570ms/step - loss: 0.0014 - val_loss: 0.0021\n",
      "Epoch 43/100\n",
      "20/20 [==============================] - 11s 554ms/step - loss: 0.0016 - val_loss: 0.0030\n",
      "Epoch 44/100\n",
      "20/20 [==============================] - 11s 567ms/step - loss: 0.0017 - val_loss: 0.0315\n",
      "Epoch 45/100\n",
      "20/20 [==============================] - 11s 554ms/step - loss: 0.0015 - val_loss: 0.0122\n",
      "Epoch 46/100\n",
      "20/20 [==============================] - 12s 591ms/step - loss: 0.0012 - val_loss: 0.0077\n",
      "Epoch 47/100\n",
      "20/20 [==============================] - 11s 561ms/step - loss: 0.0019 - val_loss: 0.0384\n",
      "Epoch 48/100\n",
      "20/20 [==============================] - 12s 592ms/step - loss: 0.0031 - val_loss: 0.0041\n",
      "Epoch 49/100\n",
      "20/20 [==============================] - 11s 543ms/step - loss: 0.0010 - val_loss: 0.0010\n",
      "Epoch 50/100\n",
      "20/20 [==============================] - 11s 544ms/step - loss: 0.0015 - val_loss: 9.9334e-04\n",
      "Epoch 51/100\n",
      "20/20 [==============================] - 11s 546ms/step - loss: 9.9673e-04 - val_loss: 0.0073\n",
      "Epoch 52/100\n",
      "20/20 [==============================] - 11s 543ms/step - loss: 0.0015 - val_loss: 0.0017\n",
      "Epoch 53/100\n",
      "20/20 [==============================] - 11s 539ms/step - loss: 0.0015 - val_loss: 0.0076\n",
      "Epoch 54/100\n",
      "20/20 [==============================] - 11s 537ms/step - loss: 0.0016 - val_loss: 5.2380e-04\n",
      "Epoch 55/100\n",
      "20/20 [==============================] - 11s 537ms/step - loss: 0.0016 - val_loss: 0.0227\n",
      "Epoch 56/100\n",
      "20/20 [==============================] - 11s 536ms/step - loss: 0.0012 - val_loss: 0.0059\n",
      "Epoch 57/100\n",
      "20/20 [==============================] - 11s 537ms/step - loss: 0.0012 - val_loss: 4.9184e-04\n",
      "Epoch 58/100\n",
      "20/20 [==============================] - 11s 536ms/step - loss: 9.0584e-04 - val_loss: 0.0039\n",
      "Epoch 59/100\n",
      "20/20 [==============================] - 11s 542ms/step - loss: 0.0020 - val_loss: 0.0564\n",
      "Epoch 60/100\n",
      "20/20 [==============================] - 11s 545ms/step - loss: 0.0012 - val_loss: 0.0022\n",
      "Epoch 61/100\n",
      "20/20 [==============================] - 11s 554ms/step - loss: 0.0014 - val_loss: 0.0069\n",
      "Epoch 62/100\n",
      "20/20 [==============================] - 11s 536ms/step - loss: 0.0017 - val_loss: 0.0547\n",
      "Epoch 63/100\n",
      "20/20 [==============================] - 11s 537ms/step - loss: 0.0015 - val_loss: 0.1285\n",
      "Epoch 64/100\n",
      "20/20 [==============================] - 11s 536ms/step - loss: 0.0017 - val_loss: 0.0259\n",
      "Epoch 65/100\n",
      "20/20 [==============================] - 11s 545ms/step - loss: 0.0012 - val_loss: 0.0105\n",
      "Epoch 66/100\n",
      "20/20 [==============================] - 11s 554ms/step - loss: 0.0015 - val_loss: 0.0223\n",
      "Epoch 67/100\n",
      "20/20 [==============================] - 11s 558ms/step - loss: 0.0015 - val_loss: 0.0047\n",
      "Epoch 68/100\n",
      "20/20 [==============================] - 13s 656ms/step - loss: 0.0012 - val_loss: 0.0027\n",
      "Epoch 69/100\n",
      "20/20 [==============================] - 13s 668ms/step - loss: 0.0014 - val_loss: 0.0028\n",
      "Epoch 70/100\n",
      "20/20 [==============================] - 11s 573ms/step - loss: 0.0013 - val_loss: 0.0241\n",
      "Epoch 71/100\n",
      "20/20 [==============================] - 13s 640ms/step - loss: 0.0015 - val_loss: 0.0065\n",
      "Epoch 72/100\n",
      "20/20 [==============================] - 12s 590ms/step - loss: 0.0015 - val_loss: 0.0032\n",
      "Epoch 73/100\n",
      "20/20 [==============================] - 12s 587ms/step - loss: 0.0012 - val_loss: 0.0285\n",
      "Epoch 74/100\n",
      "20/20 [==============================] - 12s 601ms/step - loss: 0.0013 - val_loss: 0.0108\n",
      "Epoch 75/100\n",
      "20/20 [==============================] - 11s 570ms/step - loss: 7.5674e-04 - val_loss: 0.0062\n",
      "Epoch 76/100\n",
      "20/20 [==============================] - 11s 573ms/step - loss: 0.0015 - val_loss: 0.0088\n",
      "Epoch 77/100\n",
      "20/20 [==============================] - 11s 560ms/step - loss: 8.9437e-04 - val_loss: 0.0053\n",
      "Epoch 78/100\n",
      "20/20 [==============================] - 11s 551ms/step - loss: 0.0013 - val_loss: 0.0105\n",
      "Epoch 79/100\n",
      "20/20 [==============================] - 11s 556ms/step - loss: 7.6530e-04 - val_loss: 0.0389\n",
      "Epoch 80/100\n",
      "20/20 [==============================] - 11s 560ms/step - loss: 0.0014 - val_loss: 0.0427\n",
      "Epoch 81/100\n",
      "20/20 [==============================] - 11s 549ms/step - loss: 0.0010 - val_loss: 0.0031\n",
      "Epoch 82/100\n",
      "20/20 [==============================] - 11s 544ms/step - loss: 0.0014 - val_loss: 0.0011\n",
      "Epoch 83/100\n",
      "20/20 [==============================] - 11s 552ms/step - loss: 0.0014 - val_loss: 0.0170\n",
      "Epoch 84/100\n",
      "20/20 [==============================] - 11s 570ms/step - loss: 9.2266e-04 - val_loss: 0.0011\n",
      "Epoch 85/100\n",
      "20/20 [==============================] - 11s 557ms/step - loss: 0.0013 - val_loss: 0.0126\n",
      "Epoch 86/100\n",
      "20/20 [==============================] - 11s 554ms/step - loss: 0.0011 - val_loss: 4.0587e-04\n",
      "Epoch 87/100\n",
      "20/20 [==============================] - 11s 561ms/step - loss: 0.0015 - val_loss: 8.4379e-04\n",
      "Epoch 88/100\n",
      "20/20 [==============================] - 11s 567ms/step - loss: 8.6237e-04 - val_loss: 0.0012\n",
      "Epoch 89/100\n",
      "20/20 [==============================] - 11s 562ms/step - loss: 0.0013 - val_loss: 6.7542e-04\n",
      "Epoch 90/100\n",
      "20/20 [==============================] - 12s 593ms/step - loss: 0.0011 - val_loss: 0.0012\n",
      "Epoch 91/100\n",
      "20/20 [==============================] - 11s 547ms/step - loss: 0.0013 - val_loss: 0.0013\n",
      "Epoch 92/100\n",
      "20/20 [==============================] - 11s 542ms/step - loss: 0.0011 - val_loss: 0.0115\n",
      "Epoch 93/100\n",
      "20/20 [==============================] - 11s 545ms/step - loss: 9.9190e-04 - val_loss: 0.0042\n",
      "Epoch 94/100\n",
      "20/20 [==============================] - 11s 554ms/step - loss: 0.0014 - val_loss: 0.0180\n",
      "Epoch 95/100\n",
      "20/20 [==============================] - 11s 552ms/step - loss: 0.0010 - val_loss: 0.0374\n",
      "Epoch 96/100\n",
      "20/20 [==============================] - 11s 548ms/step - loss: 7.1200e-04 - val_loss: 0.0298\n",
      "Epoch 97/100\n",
      "20/20 [==============================] - 11s 567ms/step - loss: 0.0015 - val_loss: 8.7636e-04\n",
      "Epoch 98/100\n",
      "20/20 [==============================] - 11s 561ms/step - loss: 0.0011 - val_loss: 0.0044\n",
      "Epoch 99/100\n",
      "20/20 [==============================] - 11s 560ms/step - loss: 0.0013 - val_loss: 9.1421e-04\n",
      "Epoch 100/100\n",
      "20/20 [==============================] - 11s 568ms/step - loss: 0.0012 - val_loss: 0.0044\n"
     ]
    }
   ],
   "source": [
    "autoencoder_train = autoencoder.fit(x_train, x_train, batch_size=2,epochs=100,verbose=1, callbacks=callbacks_list,validation_data=(x_train, x_train))\n"
   ]
  },
  {
   "cell_type": "code",
   "execution_count": 362,
   "metadata": {},
   "outputs": [
    {
     "name": "stdout",
     "output_type": "stream",
     "text": [
      "_________________________________________________________________\n",
      "Layer (type)                 Output Shape              Param #   \n",
      "=================================================================\n",
      "conv1d_133 (Conv1D)          (None, 149927, 10)        1010      \n",
      "_________________________________________________________________\n",
      "conv1d_134 (Conv1D)          (None, 149918, 100)       10100     \n",
      "_________________________________________________________________\n",
      "conv1d_135 (Conv1D)          (None, 149909, 100)       100100    \n",
      "_________________________________________________________________\n",
      "max_pooling1d_34 (MaxPooling (None, 74954, 100)        0         \n",
      "_________________________________________________________________\n",
      "conv1d_136 (Conv1D)          (None, 74950, 160)        80160     \n",
      "_________________________________________________________________\n",
      "dense_38 (Dense)             (None, 74950, 50)         8050      \n",
      "_________________________________________________________________\n",
      "global_average_pooling1d_30  (None, 50)                0         \n",
      "_________________________________________________________________\n",
      "dense_39 (Dense)             (None, 1)                 51        \n",
      "=================================================================\n",
      "Total params: 199,471\n",
      "Trainable params: 199,471\n",
      "Non-trainable params: 0\n",
      "_________________________________________________________________\n",
      "None\n"
     ]
    }
   ],
   "source": [
    "#quantidade de dados que entra por vez na rede neural\n",
    "batch_size = 1\n",
    "#número de épocas\n",
    "epochs = 50\n",
    "#número de atributos\n",
    "n_features = train_X.shape[1]\n",
    "#especifica que o modelo é sequencial\n",
    "model_m = Sequential()\n",
    "\n",
    "#primeira camada convolucional, 10 filtros com tamanho 100. Features grandes.\n",
    "model_m.add(Conv1D(100, 10, activation='relu', input_shape=(n_features, 1)))\n",
    "\n",
    "#segunda camada convolucional, 100 features com tamanho 10. Features médias.\n",
    "model_m.add(Conv1D(100, 10, activation='relu'))\n",
    "\n",
    "#terceira camada convolucional, 1000 filtros com tamanho 5. Features pequenas.\n",
    "model_m.add(Conv1D(100, 10, activation='relu'))\n",
    "\n",
    "model_m.add(MaxPooling1D(2))\n",
    "model_m.add(Conv1D(160, 5, activation='relu'))\n",
    "model_m.add(Dense(50, activation='sigmoid'))\n",
    "model_m.add(GlobalAveragePooling1D())\n",
    "#model_m.add(Dropout(0))\n",
    "model_m.add(Dense(1, activation='sigmoid'))\n",
    "print(model_m.summary())"
   ]
  },
  {
   "cell_type": "code",
   "execution_count": 367,
   "metadata": {},
   "outputs": [],
   "source": [
    "callbacks_list = [\n",
    "    keras.callbacks.ModelCheckpoint(\n",
    "        filepath='best_model.{epoch:02d}-{val_loss:.2f}.h5',\n",
    "        monitor='val_loss', save_best_only=True),\n",
    "    keras.callbacks.EarlyStopping(monitor='acc', patience=5)\n",
    "]\n",
    "\n",
    "model_m.compile(loss='binary_crossentropy',\n",
    "                optimizer='RMSprop', metrics=['accuracy'])"
   ]
  },
  {
   "cell_type": "code",
   "execution_count": 368,
   "metadata": {},
   "outputs": [
    {
     "name": "stdout",
     "output_type": "stream",
     "text": [
      "Train on 16 samples, validate on 4 samples\n",
      "Epoch 1/50\n",
      "16/16 [==============================] - 21s 1s/step - loss: 0.6997 - acc: 0.6875 - val_loss: 0.5874 - val_acc: 0.7500\n",
      "Epoch 2/50\n",
      "16/16 [==============================] - 21s 1s/step - loss: 0.6529 - acc: 0.6875 - val_loss: 0.5708 - val_acc: 0.7500\n",
      "Epoch 3/50\n",
      "16/16 [==============================] - 21s 1s/step - loss: 0.6467 - acc: 0.6875 - val_loss: 0.5718 - val_acc: 0.7500\n",
      "Epoch 4/50\n",
      "16/16 [==============================] - 21s 1s/step - loss: 0.6475 - acc: 0.6875 - val_loss: 0.5798 - val_acc: 0.7500\n",
      "Epoch 5/50\n",
      "16/16 [==============================] - 21s 1s/step - loss: 0.6609 - acc: 0.6875 - val_loss: 0.5772 - val_acc: 0.7500\n",
      "Epoch 6/50\n",
      "16/16 [==============================] - 21s 1s/step - loss: 0.6230 - acc: 0.6875 - val_loss: 0.5770 - val_acc: 0.7500\n"
     ]
    }
   ],
   "source": [
    "BATCH_SIZE = 4\n",
    "EPOCHS = 50\n",
    "x_train = np.array(train_X)\n",
    "y_train = np.array(train_Y)\n",
    "#expandindo as dimensões para a primeira camada\n",
    "x_train = np.expand_dims(train_X,axis= 2)\n",
    "#y_train = np.expand_dims(train_Y,axis= 2)\n",
    "\n",
    "history = model_m.fit(x_train,\n",
    "                       y_train,\n",
    "                       batch_size=BATCH_SIZE,\n",
    "                       epochs=EPOCHS,\n",
    "                       callbacks=callbacks_list,\n",
    "                       validation_split=0.2,\n",
    "                       verbose=1)"
   ]
  },
  {
   "cell_type": "code",
   "execution_count": 267,
   "metadata": {},
   "outputs": [],
   "source": [
    "#prevendo os resultados\n",
    "x_test = np.array(test_X)\n",
    "y_test = np.array(test_Y)\n",
    "x_test = np.expand_dims(test_X,axis= 2)"
   ]
  },
  {
   "cell_type": "code",
   "execution_count": 268,
   "metadata": {},
   "outputs": [
    {
     "name": "stderr",
     "output_type": "stream",
     "text": [
      "/home/gabriel/anaconda3/lib/python3.7/site-packages/keras/engine/training_utils.py:369: RuntimeWarning: divide by zero encountered in floor_divide\n",
      "  num_batches = (size + batch_size - 1) // batch_size  # round up\n"
     ]
    },
    {
     "ename": "TypeError",
     "evalue": "only integer scalar arrays can be converted to a scalar index",
     "output_type": "error",
     "traceback": [
      "\u001b[0;31m---------------------------------------------------------------------------\u001b[0m",
      "\u001b[0;31mTypeError\u001b[0m                                 Traceback (most recent call last)",
      "\u001b[0;32m<ipython-input-268-e977dc67e495>\u001b[0m in \u001b[0;36m<module>\u001b[0;34m\u001b[0m\n\u001b[0;32m----> 1\u001b[0;31m \u001b[0mmodel_m\u001b[0m\u001b[0;34m.\u001b[0m\u001b[0mpredict\u001b[0m\u001b[0;34m(\u001b[0m\u001b[0mx_test\u001b[0m\u001b[0;34m,\u001b[0m\u001b[0my_test\u001b[0m\u001b[0;34m)\u001b[0m\u001b[0;34m\u001b[0m\u001b[0;34m\u001b[0m\u001b[0m\n\u001b[0m",
      "\u001b[0;32m~/anaconda3/lib/python3.7/site-packages/keras/engine/training.py\u001b[0m in \u001b[0;36mpredict\u001b[0;34m(self, x, batch_size, verbose, steps)\u001b[0m\n\u001b[1;32m   1167\u001b[0m                                             \u001b[0mbatch_size\u001b[0m\u001b[0;34m=\u001b[0m\u001b[0mbatch_size\u001b[0m\u001b[0;34m,\u001b[0m\u001b[0;34m\u001b[0m\u001b[0;34m\u001b[0m\u001b[0m\n\u001b[1;32m   1168\u001b[0m                                             \u001b[0mverbose\u001b[0m\u001b[0;34m=\u001b[0m\u001b[0mverbose\u001b[0m\u001b[0;34m,\u001b[0m\u001b[0;34m\u001b[0m\u001b[0;34m\u001b[0m\u001b[0m\n\u001b[0;32m-> 1169\u001b[0;31m                                             steps=steps)\n\u001b[0m\u001b[1;32m   1170\u001b[0m \u001b[0;34m\u001b[0m\u001b[0m\n\u001b[1;32m   1171\u001b[0m     def train_on_batch(self, x, y,\n",
      "\u001b[0;32m~/anaconda3/lib/python3.7/site-packages/keras/engine/training_arrays.py\u001b[0m in \u001b[0;36mpredict_loop\u001b[0;34m(model, f, ins, batch_size, verbose, steps)\u001b[0m\n\u001b[1;32m    280\u001b[0m         \u001b[0;31m# Sample-based predictions.\u001b[0m\u001b[0;34m\u001b[0m\u001b[0;34m\u001b[0m\u001b[0;34m\u001b[0m\u001b[0m\n\u001b[1;32m    281\u001b[0m         \u001b[0mouts\u001b[0m \u001b[0;34m=\u001b[0m \u001b[0;34m[\u001b[0m\u001b[0;34m]\u001b[0m\u001b[0;34m\u001b[0m\u001b[0;34m\u001b[0m\u001b[0m\n\u001b[0;32m--> 282\u001b[0;31m         \u001b[0mbatches\u001b[0m \u001b[0;34m=\u001b[0m \u001b[0mmake_batches\u001b[0m\u001b[0;34m(\u001b[0m\u001b[0mnum_samples\u001b[0m\u001b[0;34m,\u001b[0m \u001b[0mbatch_size\u001b[0m\u001b[0;34m)\u001b[0m\u001b[0;34m\u001b[0m\u001b[0;34m\u001b[0m\u001b[0m\n\u001b[0m\u001b[1;32m    283\u001b[0m         \u001b[0mindex_array\u001b[0m \u001b[0;34m=\u001b[0m \u001b[0mnp\u001b[0m\u001b[0;34m.\u001b[0m\u001b[0marange\u001b[0m\u001b[0;34m(\u001b[0m\u001b[0mnum_samples\u001b[0m\u001b[0;34m)\u001b[0m\u001b[0;34m\u001b[0m\u001b[0;34m\u001b[0m\u001b[0m\n\u001b[1;32m    284\u001b[0m         \u001b[0;32mfor\u001b[0m \u001b[0mbatch_index\u001b[0m\u001b[0;34m,\u001b[0m \u001b[0;34m(\u001b[0m\u001b[0mbatch_start\u001b[0m\u001b[0;34m,\u001b[0m \u001b[0mbatch_end\u001b[0m\u001b[0;34m)\u001b[0m \u001b[0;32min\u001b[0m \u001b[0menumerate\u001b[0m\u001b[0;34m(\u001b[0m\u001b[0mbatches\u001b[0m\u001b[0;34m)\u001b[0m\u001b[0;34m:\u001b[0m\u001b[0;34m\u001b[0m\u001b[0;34m\u001b[0m\u001b[0m\n",
      "\u001b[0;32m~/anaconda3/lib/python3.7/site-packages/keras/engine/training_utils.py\u001b[0m in \u001b[0;36mmake_batches\u001b[0;34m(size, batch_size)\u001b[0m\n\u001b[1;32m    369\u001b[0m     \u001b[0mnum_batches\u001b[0m \u001b[0;34m=\u001b[0m \u001b[0;34m(\u001b[0m\u001b[0msize\u001b[0m \u001b[0;34m+\u001b[0m \u001b[0mbatch_size\u001b[0m \u001b[0;34m-\u001b[0m \u001b[0;36m1\u001b[0m\u001b[0;34m)\u001b[0m \u001b[0;34m//\u001b[0m \u001b[0mbatch_size\u001b[0m  \u001b[0;31m# round up\u001b[0m\u001b[0;34m\u001b[0m\u001b[0;34m\u001b[0m\u001b[0m\n\u001b[1;32m    370\u001b[0m     return [(i * batch_size, min(size, (i + 1) * batch_size))\n\u001b[0;32m--> 371\u001b[0;31m             for i in range(num_batches)]\n\u001b[0m\u001b[1;32m    372\u001b[0m \u001b[0;34m\u001b[0m\u001b[0m\n\u001b[1;32m    373\u001b[0m \u001b[0;34m\u001b[0m\u001b[0m\n",
      "\u001b[0;31mTypeError\u001b[0m: only integer scalar arrays can be converted to a scalar index"
     ]
    }
   ],
   "source": [
    "model_m.predict(x_test,y_test)"
   ]
  },
  {
   "cell_type": "markdown",
   "metadata": {},
   "source": [
    "# PCA"
   ]
  },
  {
   "cell_type": "code",
   "execution_count": 227,
   "metadata": {},
   "outputs": [
    {
     "name": "stdout",
     "output_type": "stream",
     "text": [
      "0.5974338995594077\n"
     ]
    }
   ],
   "source": [
    "pca = PCA(n_components = 2, whiten = True).fit(dfw)\n",
    "print(sum(pca.explained_variance_ratio_))\n",
    "X_pca = pca.transform(dfw)\n",
    "#print(pca.components_)\n",
    "PC1, PC2 = pca.components_\n",
    "#print(pca.explained_variance_ratio_)\n",
    "#print(sum(pca.explained_variance_ratio_))\n",
    "X_pca = pd.DataFrame(X_pca)\n",
    "X_pca.columns = ['PC1', 'PC2']"
   ]
  },
  {
   "cell_type": "markdown",
   "metadata": {},
   "source": [
    "# K-means"
   ]
  },
  {
   "cell_type": "code",
   "execution_count": 228,
   "metadata": {},
   "outputs": [
    {
     "data": {
      "image/png": "[encoded data removed]",
      "text/plain": [
       "<Figure size 576x432 with 1 Axes>"
      ]
     },
     "metadata": {
      "needs_background": "light"
     },
     "output_type": "display_data"
    }
   ],
   "source": [
    "model = KMeans(n_clusters = 3)\n",
    "model = model.fit(X_pca)#scale(X_pca))\n",
    "plt.figure(figsize = (8, 6))\n",
    "plt.grid()\n",
    "plt.scatter(X_pca['PC1'], X_pca['PC2'], c = model.labels_.astype(np.float))\n",
    "plt.title(\"K-means com os outliers\")\n",
    "plt.show()"
   ]
  },
  {
   "cell_type": "code",
   "execution_count": 229,
   "metadata": {},
   "outputs": [
    {
     "name": "stdout",
     "output_type": "stream",
     "text": [
      "[1 0 0 0 0 0 0 0 0 0 0 0 0 0 0 0 0 0 0 0 0 0 0 0 0 0 0 0 0 2 0 0 0 0 0 0 0\n",
      " 0 0 0 0 0 0 0 0 0 0 0 0 0 0 0 0 0 0 0 0 0 0 0 0 0 0 0 0 0 0 0 0 0 0 0 0 0\n",
      " 0 0 0 0 2 0 0 0 0]\n",
      "29\n",
      "78\n"
     ]
    }
   ],
   "source": [
    "print(model.labels_)\n",
    "j = 0\n",
    "for i in model.labels_:\n",
    "    if(i == 2):\n",
    "        print(j)\n",
    "    j = j+1"
   ]
  },
  {
   "cell_type": "markdown",
   "metadata": {},
   "source": [
    "# K-means sem os outliers"
   ]
  },
  {
   "cell_type": "code",
   "execution_count": 230,
   "metadata": {},
   "outputs": [],
   "source": [
    "X_pca = X_pca.drop(X_pca.index[[0,29,78]])\n",
    "fnames = pd.DataFrame(fnames)\n",
    "fnames = fnames.drop(fnames.index[[0,29,78]])"
   ]
  },
  {
   "cell_type": "code",
   "execution_count": 231,
   "metadata": {},
   "outputs": [
    {
     "data": {
      "image/png": "[encoded data removed]",
      "text/plain": [
       "<Figure size 576x432 with 1 Axes>"
      ]
     },
     "metadata": {
      "needs_background": "light"
     },
     "output_type": "display_data"
    }
   ],
   "source": [
    "model = KMeans(n_clusters = 3)\n",
    "model = model.fit(X_pca)#scale(X_pca))\n",
    "plt.figure(figsize = (8, 6))\n",
    "plt.scatter(X_pca['PC1'], X_pca['PC2'], c = model.labels_.astype(np.float))\n",
    "plt.title(\"K-means retirando-se os outliers\")\n",
    "plt.grid()\n",
    "plt.show()"
   ]
  },
  {
   "cell_type": "code",
   "execution_count": 232,
   "metadata": {},
   "outputs": [],
   "source": [
    "fnames = pd.DataFrame(fnames)\n",
    "fnames = fnames.drop(fnames.index[[0,29,78]])"
   ]
  },
  {
   "cell_type": "code",
   "execution_count": 233,
   "metadata": {},
   "outputs": [],
   "source": [
    "parametros_modelo = pd.DataFrame(model.labels_)\n",
    "amostras_clusterizadas = []\n",
    "for cluster in (range(len(fnames))):\n",
    "    amostras_clusterizadas.append(str(fnames.iloc[cluster][0]) + \"   cluster \" + str(parametros_modelo.iloc[cluster][0]))"
   ]
  },
  {
   "cell_type": "code",
   "execution_count": 234,
   "metadata": {},
   "outputs": [
    {
     "data": {
      "text/plain": [
       "['W203_200516201420.wav   cluster 2',\n",
       " 'W204_200516211315.wav   cluster 2',\n",
       " 'W205_200516211512.wav   cluster 1',\n",
       " 'W206_250516211141.wav   cluster 2',\n",
       " 'W207_250516211411.wav   cluster 2',\n",
       " 'W208_300516210305.wav   cluster 2',\n",
       " 'W209_300516210635.wav   cluster 2',\n",
       " 'W210_300516210818.wav   cluster 2',\n",
       " 'W211_300516222233.wav   cluster 2',\n",
       " 'W212_300516222423.wav   cluster 2',\n",
       " 'W213_030616174835.wav   cluster 2',\n",
       " 'W214_030616175127.wav   cluster 2',\n",
       " 'W215_030616180529.wav   cluster 2',\n",
       " 'W216_030616180806.wav   cluster 2',\n",
       " 'W217_090616203521.wav   cluster 2',\n",
       " 'W218_090616203920.wav   cluster 0',\n",
       " 'W219_090616204204.wav   cluster 2',\n",
       " 'W220_090616204407.wav   cluster 2',\n",
       " 'W221_090616230029.wav   cluster 2',\n",
       " 'W222_090616230255.wav   cluster 2',\n",
       " 'W223_130616182010.wav   cluster 2',\n",
       " 'W224_130616182202.wav   cluster 2',\n",
       " 'W225_130616182401.wav   cluster 2',\n",
       " 'W226_130616182603.wav   cluster 2',\n",
       " 'W227_140616212154.wav   cluster 2',\n",
       " 'W228_140616212440.wav   cluster 2',\n",
       " 'W229_140616212757.wav   cluster 2',\n",
       " 'W231_140616222912.wav   cluster 2',\n",
       " 'W233_140616223347.wav   cluster 2',\n",
       " 'W234_030816204117.wav   cluster 2',\n",
       " 'W235_030816204326.wav   cluster 2',\n",
       " 'W236_030816215505.wav   cluster 2',\n",
       " 'W237_030816215702.wav   cluster 2',\n",
       " 'W238_130816230408.wav   cluster 2',\n",
       " 'W239_130816230652.wav   cluster 2',\n",
       " 'W240_130816230858.wav   cluster 2',\n",
       " 'W241_140816001707.wav   cluster 2',\n",
       " 'W242_170816151448.wav   cluster 2',\n",
       " 'W243_170816151752.wav   cluster 2',\n",
       " 'W243_170816151919.wav   cluster 1',\n",
       " 'W244_170816152120.wav   cluster 2',\n",
       " 'W245_180816200454.wav   cluster 2',\n",
       " 'W246_180816200721.wav   cluster 0',\n",
       " 'W247_180816212315.wav   cluster 2',\n",
       " 'W248_180816212531.wav   cluster 2',\n",
       " 'W249_240816205457.wav   cluster 0',\n",
       " 'W250_240816205715.wav   cluster 2',\n",
       " 'W251_240816205921.wav   cluster 2',\n",
       " 'W252_010916152121.wav   cluster 2',\n",
       " 'W253_010916152314.wav   cluster 2',\n",
       " 'W254_020916225607.wav   cluster 2',\n",
       " 'W255_020916225845.wav   cluster 2',\n",
       " 'W256_120916205126.wav   cluster 2',\n",
       " 'W257_120916205332.wav   cluster 2',\n",
       " 'W258_120916214727.wav   cluster 2',\n",
       " 'W259_220916203628.wav   cluster 2',\n",
       " 'W260_220916203915.wav   cluster 2',\n",
       " 'W261_171016210547.wav   cluster 2',\n",
       " 'W262_171016231550.wav   cluster 2',\n",
       " 'W263_171016231812.wav   cluster 2',\n",
       " 'W264_221016223834.wav   cluster 2',\n",
       " 'W265_221016224059.wav   cluster 2',\n",
       " 'W266_111116193743 S58 20KHZ TRMOV-1.wav   cluster 2',\n",
       " 'W267_111116203919 S70 20KHZ T-4.wav   cluster 2',\n",
       " 'W269_111116204433 S65 20KHZ T-3.wav   cluster 2',\n",
       " 'W270_111116204651 S70 20KHZ T-2.wav   cluster 2',\n",
       " 'W271_111116214532S57 20KHZ T-1.wav   cluster 2',\n",
       " 'W272_261116224954 S53 20KHZ T-1.wav   cluster 2',\n",
       " 'W273_261116225201 S58 20KHZ T-2.wav   cluster 2',\n",
       " 'W274_261116225509 S58 20KHZ T-3.wav   cluster 2',\n",
       " 'W274_261116225617S58 20KHZ T-3.wav   cluster 2',\n",
       " 'W275_261116225810 S70 20KHZ T-4.wav   cluster 2',\n",
       " 'W276_161216230009 S53 20KHZ T-1.wav   cluster 2',\n",
       " 'W277_161216230220 S55 20KHZ T-2.wav   cluster 2',\n",
       " 'W279_161216231037 S56 40KHZ 14DB TC FASE A T-1.wav   cluster 2',\n",
       " 'W280_161216231206 S55 20KHZ 16DB TC FASE B T-1.wav   cluster 2',\n",
       " 'W282_211216202600 S53 20khz T-2.wav   cluster 2']"
      ]
     },
     "execution_count": 234,
     "metadata": {},
     "output_type": "execute_result"
    }
   ],
   "source": [
    "amostras_clusterizadas"
   ]
  },
  {
   "cell_type": "code",
   "execution_count": null,
   "metadata": {},
   "outputs": [],
   "source": []
  }
 ],
 "metadata": {
  "kernelspec": {
   "display_name": "Python 3",
   "language": "python",
   "name": "python3"
  },
  "language_info": {
   "codemirror_mode": {
    "name": "ipython",
    "version": 3
   },
   "file_extension": ".py",
   "mimetype": "text/x-python",
   "name": "python",
   "nbconvert_exporter": "python",
   "pygments_lexer": "ipython3",
   "version": "3.7.3"
  }
 },
 "nbformat": 4,
 "nbformat_minor": 2
}
